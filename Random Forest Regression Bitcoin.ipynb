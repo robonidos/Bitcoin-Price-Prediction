{
 "cells": [
  {
   "cell_type": "code",
   "execution_count": 669,
   "metadata": {},
   "outputs": [],
   "source": [
    "import pandas as pd\n",
    "import matplotlib.pyplot as plt\n",
    "from sklearn.metrics import mean_squared_error, r2_score\n",
    "from sklearn.model_selection import train_test_split\n",
    "from sklearn.model_selection import KFold\n",
    "from sklearn.preprocessing import MinMaxScaler\n",
    "import numpy as np\n",
    "from sklearn.model_selection import train_test_split\n",
    "from sklearn.model_selection import cross_val_predict, GridSearchCV\n",
    "from sklearn.ensemble import RandomForestRegressor\n",
    "from sklearn.model_selection import cross_val_score\n",
    "import statsmodels.api as sm\n",
    "import statsmodels.formula.api as smf\n"
   ]
  },
  {
   "cell_type": "code",
   "execution_count": 651,
   "metadata": {},
   "outputs": [],
   "source": [
    "selected_columns = ['difficulty','est_transaction_volume_USD','trade_volume','wallets_created','mempool_size_min','mempool_size_mean','mempool_size_max','hash_rate','miners_revenue','transaction_fees_USD','mempool_size_stddev','utxo_count_max','utxo_count_mean','utxo_count_min','output_volume','mempool_count_mean','mempool_count_min','est_transaction_volume','mempool_count_max','n_unique_addresses','utxo_count_stddev','total_bitcoins','mempool_growth_max','blocks_size','n_transactions','n_transactions_excl_popular','n_transactions_excl_chains_longer_than_100','mempool_count_stddev','news_stories_total','news_stories_negative','news_stories_positive','mempool_growth_stddev','transaction_fees','news_stories_neutral','mempool_growth_mean','n_transactions_per_block','mempool_growth_min','Neutral_Tweets','Positive_Tweets','cost_per_transaction','Negative_Tweets','transactions_per_sec_max','median_confirmation_time','transactions_per_sec_min','transactions_per_sec_mean']\n",
    "#selected_columns = ['difficulty','est_transaction_volume_USD','trade_volume','wallets_created','mempool_size_min','mempool_size_mean','mempool_size_max','hash_rate','miners_revenue','transaction_fees_USD','mempool_size_stddev','utxo_count_max','utxo_count_mean','utxo_count_min','output_volume','mempool_count_mean','mempool_count_min','est_transaction_volume','mempool_count_max','n_unique_addresses','utxo_count_stddev','total_bitcoins','mempool_growth_max','blocks_size','n_transactions','n_transactions_excl_popular','n_transactions_excl_chains_longer_than_100','mempool_count_stddev','news_stories_total','news_stories_negative','news_stories_positive','mempool_growth_stddev','transaction_fees','news_stories_neutral','mempool_growth_mean','n_transactions_per_block','mempool_growth_min','Neutral_Tweets','Positive_Tweets','cost_per_transaction','Negative_Tweets','transactions_per_sec_max','median_confirmation_time','cost_per_transaction_percent','transactions_per_sec_min','transactions_per_sec_mean']\n",
    "# Removed - cost_per_transaction_percent\n",
    "\n",
    "#TRYING CHANGE\n",
    "#selected_columns = ['difficulty','difficulty_change','est_transaction_volume_USD','est_transaction_volume_USD_change','trade_volume','trade_volume_change','wallets_created','wallets_created_change','mempool_size_min','mempool_size_min_change','mempool_size_mean','mempool_size_mean_change','mempool_size_max','hash_rate','miners_revenue','transaction_fees_USD','mempool_size_stddev','utxo_count_max','utxo_count_mean','utxo_count_min','output_volume','mempool_count_mean','mempool_count_min','est_transaction_volume','mempool_count_max','n_unique_addresses','utxo_count_stddev','total_bitcoins','mempool_growth_max','blocks_size','n_transactions','n_transactions_excl_popular','n_transactions_excl_chains_longer_than_100','mempool_count_stddev','news_stories_total','news_stories_negative','news_stories_positive','mempool_growth_stddev','transaction_fees','news_stories_neutral','mempool_growth_mean','n_transactions_per_block','mempool_growth_min','Neutral_Tweets','Positive_Tweets','cost_per_transaction','Negative_Tweets','transactions_per_sec_max','median_confirmation_time','transactions_per_sec_min','transactions_per_sec_mean']"
   ]
  },
  {
   "cell_type": "code",
   "execution_count": 652,
   "metadata": {},
   "outputs": [],
   "source": [
    "timeseries_test = pd.read_csv('../Data/Output/timeseries_merged.csv',encoding='latin1')\n",
    "#timeseries_test = pd.read_csv('../Data/Output/timeseries_change.csv',encoding='latin1')\n",
    "timeseries_test.set_index('Date', inplace=True)\n",
    "#timeseries_test['difficulty'] = timeseries_test['difficulty'].apply(lambda x: '{:.2f}'.format(x))\n",
    "timeseries_test_single = timeseries_test.copy()"
   ]
  },
  {
   "cell_type": "code",
   "execution_count": 579,
   "metadata": {},
   "outputs": [],
   "source": [
    "timeseries_test_single.replace(to_replace='#DIV/0!', value=0, inplace=True)"
   ]
  },
  {
   "cell_type": "code",
   "execution_count": 623,
   "metadata": {},
   "outputs": [],
   "source": [
    "timeseries_test_single['difficulty_change'] = timeseries_test_single['difficulty_change'].astype(float)\n",
    "timeseries_test_single['est_transaction_volume_USD_change'] = timeseries_test_single['est_transaction_volume_USD_change'].astype(float)\n",
    "timeseries_test_single['trade_volume_change'] = timeseries_test_single['trade_volume_change'].astype(float)\n",
    "timeseries_test_single['wallets_created_change'] = timeseries_test_single['wallets_created_change'].astype(float)\n",
    "timeseries_test_single['mempool_size_min_change'] = timeseries_test_single['mempool_size_min_change'].astype(float)\n",
    "timeseries_test_single['mempool_size_mean_change'] = timeseries_test_single['mempool_size_mean_change'].astype(float)"
   ]
  },
  {
   "cell_type": "code",
   "execution_count": 624,
   "metadata": {},
   "outputs": [],
   "source": [
    "timeseries_test_single['difficulty_change'] = timeseries_test_single['difficulty_change']*100\n",
    "timeseries_test_single['est_transaction_volume_USD_change'] = timeseries_test_single['est_transaction_volume_USD_change']*100\n",
    "timeseries_test_single['trade_volume_change'] = timeseries_test_single['trade_volume_change']*100\n",
    "timeseries_test_single['wallets_created_change'] = timeseries_test_single['wallets_created_change']*100\n",
    "timeseries_test_single['mempool_size_min_change'] = timeseries_test_single['mempool_size_min_change']*100\n",
    "timeseries_test_single['mempool_size_mean_change'] = timeseries_test_single['mempool_size_mean_change']*100"
   ]
  },
  {
   "cell_type": "code",
   "execution_count": 653,
   "metadata": {},
   "outputs": [],
   "source": [
    "X = timeseries_test_single[selected_columns]\n",
    "y = timeseries_test_single['close']"
   ]
  },
  {
   "cell_type": "code",
   "execution_count": 654,
   "metadata": {},
   "outputs": [],
   "source": [
    "#X_constant = sm.add_constant(X)"
   ]
  },
  {
   "cell_type": "code",
   "execution_count": null,
   "metadata": {},
   "outputs": [],
   "source": []
  },
  {
   "cell_type": "code",
   "execution_count": 655,
   "metadata": {},
   "outputs": [],
   "source": [
    "#model = sm.OLS(y, X_constant)\n",
    "#lin_reg = model.fit()"
   ]
  },
  {
   "cell_type": "code",
   "execution_count": 643,
   "metadata": {},
   "outputs": [
    {
     "data": {
      "text/html": [
       "<table class=\"simpletable\">\n",
       "<caption>OLS Regression Results</caption>\n",
       "<tr>\n",
       "  <th>Dep. Variable:</th>          <td>close</td>      <th>  R-squared:         </th> <td>   0.995</td> \n",
       "</tr>\n",
       "<tr>\n",
       "  <th>Model:</th>                   <td>OLS</td>       <th>  Adj. R-squared:    </th> <td>   0.995</td> \n",
       "</tr>\n",
       "<tr>\n",
       "  <th>Method:</th>             <td>Least Squares</td>  <th>  F-statistic:       </th> <td>   3941.</td> \n",
       "</tr>\n",
       "<tr>\n",
       "  <th>Date:</th>             <td>Mon, 29 Apr 2019</td> <th>  Prob (F-statistic):</th>  <td>  0.00</td>  \n",
       "</tr>\n",
       "<tr>\n",
       "  <th>Time:</th>                 <td>14:33:26</td>     <th>  Log-Likelihood:    </th> <td> -6743.3</td> \n",
       "</tr>\n",
       "<tr>\n",
       "  <th>No. Observations:</th>      <td>   951</td>      <th>  AIC:               </th> <td>1.358e+04</td>\n",
       "</tr>\n",
       "<tr>\n",
       "  <th>Df Residuals:</th>          <td>   906</td>      <th>  BIC:               </th> <td>1.380e+04</td>\n",
       "</tr>\n",
       "<tr>\n",
       "  <th>Df Model:</th>              <td>    44</td>      <th>                     </th>     <td> </td>    \n",
       "</tr>\n",
       "<tr>\n",
       "  <th>Covariance Type:</th>      <td>nonrobust</td>    <th>                     </th>     <td> </td>    \n",
       "</tr>\n",
       "</table>\n",
       "<table class=\"simpletable\">\n",
       "<tr>\n",
       "                       <td></td>                         <th>coef</th>     <th>std err</th>      <th>t</th>      <th>P>|t|</th>  <th>[0.025</th>    <th>0.975]</th>  \n",
       "</tr>\n",
       "<tr>\n",
       "  <th>const</th>                                      <td>   -0.4375</td> <td>    0.467</td> <td>   -0.937</td> <td> 0.349</td> <td>   -1.354</td> <td>    0.479</td>\n",
       "</tr>\n",
       "<tr>\n",
       "  <th>difficulty</th>                                 <td> 7.582e-10</td> <td> 5.51e-11</td> <td>   13.773</td> <td> 0.000</td> <td>  6.5e-10</td> <td> 8.66e-10</td>\n",
       "</tr>\n",
       "<tr>\n",
       "  <th>est_transaction_volume_USD</th>                 <td> 5.415e-07</td> <td> 5.74e-08</td> <td>    9.428</td> <td> 0.000</td> <td> 4.29e-07</td> <td> 6.54e-07</td>\n",
       "</tr>\n",
       "<tr>\n",
       "  <th>trade_volume</th>                               <td>-8.431e-09</td> <td> 4.55e-08</td> <td>   -0.185</td> <td> 0.853</td> <td>-9.78e-08</td> <td> 8.09e-08</td>\n",
       "</tr>\n",
       "<tr>\n",
       "  <th>wallets_created</th>                            <td>-5.692e-07</td> <td> 1.26e-07</td> <td>   -4.509</td> <td> 0.000</td> <td>-8.17e-07</td> <td>-3.21e-07</td>\n",
       "</tr>\n",
       "<tr>\n",
       "  <th>mempool_size_min</th>                           <td>   2.7e-06</td> <td> 2.06e-06</td> <td>    1.308</td> <td> 0.191</td> <td>-1.35e-06</td> <td> 6.75e-06</td>\n",
       "</tr>\n",
       "<tr>\n",
       "  <th>mempool_size_mean</th>                          <td>-9.338e-07</td> <td> 4.27e-06</td> <td>   -0.219</td> <td> 0.827</td> <td>-9.31e-06</td> <td> 7.45e-06</td>\n",
       "</tr>\n",
       "<tr>\n",
       "  <th>mempool_size_max</th>                           <td>-2.915e-06</td> <td> 4.59e-06</td> <td>   -0.635</td> <td> 0.526</td> <td>-1.19e-05</td> <td>  6.1e-06</td>\n",
       "</tr>\n",
       "<tr>\n",
       "  <th>hash_rate</th>                                  <td>-8.434e-05</td> <td> 6.26e-06</td> <td>  -13.476</td> <td> 0.000</td> <td>-9.66e-05</td> <td>-7.21e-05</td>\n",
       "</tr>\n",
       "<tr>\n",
       "  <th>miners_revenue</th>                             <td>    0.0003</td> <td> 1.19e-05</td> <td>   26.684</td> <td> 0.000</td> <td>    0.000</td> <td>    0.000</td>\n",
       "</tr>\n",
       "<tr>\n",
       "  <th>transaction_fees_USD</th>                       <td>   -0.0003</td> <td> 2.34e-05</td> <td>  -12.812</td> <td> 0.000</td> <td>   -0.000</td> <td>   -0.000</td>\n",
       "</tr>\n",
       "<tr>\n",
       "  <th>mempool_size_stddev</th>                        <td> 1.788e-05</td> <td> 9.66e-06</td> <td>    1.851</td> <td> 0.065</td> <td>-1.08e-06</td> <td> 3.68e-05</td>\n",
       "</tr>\n",
       "<tr>\n",
       "  <th>utxo_count_max</th>                             <td>    0.0013</td> <td>    0.001</td> <td>    1.034</td> <td> 0.301</td> <td>   -0.001</td> <td>    0.004</td>\n",
       "</tr>\n",
       "<tr>\n",
       "  <th>utxo_count_mean</th>                            <td>   -0.0013</td> <td>    0.001</td> <td>   -1.123</td> <td> 0.262</td> <td>   -0.004</td> <td>    0.001</td>\n",
       "</tr>\n",
       "<tr>\n",
       "  <th>utxo_count_min</th>                             <td> 2.727e-05</td> <td>    0.001</td> <td>    0.024</td> <td> 0.981</td> <td>   -0.002</td> <td>    0.002</td>\n",
       "</tr>\n",
       "<tr>\n",
       "  <th>output_volume</th>                              <td> 1.131e-05</td> <td> 1.41e-05</td> <td>    0.804</td> <td> 0.421</td> <td>-1.63e-05</td> <td> 3.89e-05</td>\n",
       "</tr>\n",
       "<tr>\n",
       "  <th>mempool_count_mean</th>                         <td>   -0.0003</td> <td>    0.004</td> <td>   -0.068</td> <td> 0.946</td> <td>   -0.009</td> <td>    0.008</td>\n",
       "</tr>\n",
       "<tr>\n",
       "  <th>mempool_count_min</th>                          <td>   -0.0026</td> <td>    0.002</td> <td>   -1.169</td> <td> 0.243</td> <td>   -0.007</td> <td>    0.002</td>\n",
       "</tr>\n",
       "<tr>\n",
       "  <th>est_transaction_volume</th>                     <td>   -0.0024</td> <td>    0.000</td> <td>  -10.184</td> <td> 0.000</td> <td>   -0.003</td> <td>   -0.002</td>\n",
       "</tr>\n",
       "<tr>\n",
       "  <th>mempool_count_max</th>                          <td>    0.0052</td> <td>    0.005</td> <td>    1.111</td> <td> 0.267</td> <td>   -0.004</td> <td>    0.014</td>\n",
       "</tr>\n",
       "<tr>\n",
       "  <th>n_unique_addresses</th>                         <td>    0.0014</td> <td>    0.000</td> <td>    3.170</td> <td> 0.002</td> <td>    0.001</td> <td>    0.002</td>\n",
       "</tr>\n",
       "<tr>\n",
       "  <th>utxo_count_stddev</th>                          <td>   -0.0026</td> <td>    0.003</td> <td>   -0.785</td> <td> 0.433</td> <td>   -0.009</td> <td>    0.004</td>\n",
       "</tr>\n",
       "<tr>\n",
       "  <th>total_bitcoins</th>                             <td>-3.999e-05</td> <td> 1.92e-05</td> <td>   -2.083</td> <td> 0.038</td> <td>-7.77e-05</td> <td>-2.31e-06</td>\n",
       "</tr>\n",
       "<tr>\n",
       "  <th>mempool_growth_max</th>                         <td>   -0.0011</td> <td>    0.002</td> <td>   -0.667</td> <td> 0.505</td> <td>   -0.004</td> <td>    0.002</td>\n",
       "</tr>\n",
       "<tr>\n",
       "  <th>blocks_size</th>                                <td>    0.0003</td> <td>    0.002</td> <td>    0.127</td> <td> 0.899</td> <td>   -0.005</td> <td>    0.005</td>\n",
       "</tr>\n",
       "<tr>\n",
       "  <th>n_transactions</th>                             <td>   -0.0099</td> <td>    0.001</td> <td>   -7.353</td> <td> 0.000</td> <td>   -0.012</td> <td>   -0.007</td>\n",
       "</tr>\n",
       "<tr>\n",
       "  <th>n_transactions_excl_popular</th>                <td>   -0.0011</td> <td>    0.001</td> <td>   -1.521</td> <td> 0.129</td> <td>   -0.002</td> <td>    0.000</td>\n",
       "</tr>\n",
       "<tr>\n",
       "  <th>n_transactions_excl_chains_longer_than_100</th> <td>    0.0024</td> <td>    0.001</td> <td>    2.141</td> <td> 0.033</td> <td>    0.000</td> <td>    0.005</td>\n",
       "</tr>\n",
       "<tr>\n",
       "  <th>mempool_count_stddev</th>                       <td>   -0.0191</td> <td>    0.010</td> <td>   -1.898</td> <td> 0.058</td> <td>   -0.039</td> <td>    0.001</td>\n",
       "</tr>\n",
       "<tr>\n",
       "  <th>news_stories_total</th>                         <td> -140.3725</td> <td>  175.467</td> <td>   -0.800</td> <td> 0.424</td> <td> -484.742</td> <td>  203.996</td>\n",
       "</tr>\n",
       "<tr>\n",
       "  <th>news_stories_negative</th>                      <td>  140.3720</td> <td>  175.463</td> <td>    0.800</td> <td> 0.424</td> <td> -203.990</td> <td>  484.734</td>\n",
       "</tr>\n",
       "<tr>\n",
       "  <th>news_stories_positive</th>                      <td>  140.3950</td> <td>  175.465</td> <td>    0.800</td> <td> 0.424</td> <td> -203.970</td> <td>  484.760</td>\n",
       "</tr>\n",
       "<tr>\n",
       "  <th>mempool_growth_stddev</th>                      <td>   -0.0608</td> <td>    0.057</td> <td>   -1.073</td> <td> 0.283</td> <td>   -0.172</td> <td>    0.050</td>\n",
       "</tr>\n",
       "<tr>\n",
       "  <th>transaction_fees</th>                           <td>   -0.5471</td> <td>    0.247</td> <td>   -2.212</td> <td> 0.027</td> <td>   -1.033</td> <td>   -0.062</td>\n",
       "</tr>\n",
       "<tr>\n",
       "  <th>news_stories_neutral</th>                       <td>  140.7627</td> <td>  175.479</td> <td>    0.802</td> <td> 0.423</td> <td> -203.629</td> <td>  485.155</td>\n",
       "</tr>\n",
       "<tr>\n",
       "  <th>mempool_growth_mean</th>                        <td>   -0.1554</td> <td>    0.105</td> <td>   -1.484</td> <td> 0.138</td> <td>   -0.361</td> <td>    0.050</td>\n",
       "</tr>\n",
       "<tr>\n",
       "  <th>n_transactions_per_block</th>                   <td>    1.1810</td> <td>    0.100</td> <td>   11.823</td> <td> 0.000</td> <td>    0.985</td> <td>    1.377</td>\n",
       "</tr>\n",
       "<tr>\n",
       "  <th>mempool_growth_min</th>                         <td>    0.0421</td> <td>    0.167</td> <td>    0.252</td> <td> 0.801</td> <td>   -0.285</td> <td>    0.370</td>\n",
       "</tr>\n",
       "<tr>\n",
       "  <th>Neutral_Tweets</th>                             <td>   -0.7116</td> <td>    0.462</td> <td>   -1.541</td> <td> 0.124</td> <td>   -1.618</td> <td>    0.195</td>\n",
       "</tr>\n",
       "<tr>\n",
       "  <th>Positive_Tweets</th>                            <td>    0.4122</td> <td>    0.585</td> <td>    0.705</td> <td> 0.481</td> <td>   -0.735</td> <td>    1.560</td>\n",
       "</tr>\n",
       "<tr>\n",
       "  <th>cost_per_transaction</th>                       <td>   27.8543</td> <td>    2.031</td> <td>   13.717</td> <td> 0.000</td> <td>   23.869</td> <td>   31.840</td>\n",
       "</tr>\n",
       "<tr>\n",
       "  <th>Negative_Tweets</th>                            <td>   -3.5736</td> <td>    1.194</td> <td>   -2.992</td> <td> 0.003</td> <td>   -5.917</td> <td>   -1.230</td>\n",
       "</tr>\n",
       "<tr>\n",
       "  <th>transactions_per_sec_max</th>                   <td>   -4.9017</td> <td>    2.625</td> <td>   -1.867</td> <td> 0.062</td> <td>  -10.053</td> <td>    0.250</td>\n",
       "</tr>\n",
       "<tr>\n",
       "  <th>median_confirmation_time</th>                   <td>   -7.8474</td> <td>    4.144</td> <td>   -1.893</td> <td> 0.059</td> <td>  -15.981</td> <td>    0.286</td>\n",
       "</tr>\n",
       "<tr>\n",
       "  <th>cost_per_transaction_percent</th>               <td> -122.3998</td> <td>   36.908</td> <td>   -3.316</td> <td> 0.001</td> <td> -194.834</td> <td>  -49.966</td>\n",
       "</tr>\n",
       "<tr>\n",
       "  <th>transactions_per_sec_min</th>                   <td>  -32.0416</td> <td>   57.732</td> <td>   -0.555</td> <td> 0.579</td> <td> -145.346</td> <td>   81.263</td>\n",
       "</tr>\n",
       "<tr>\n",
       "  <th>transactions_per_sec_mean</th>                  <td>  353.0188</td> <td>   90.497</td> <td>    3.901</td> <td> 0.000</td> <td>  175.412</td> <td>  530.626</td>\n",
       "</tr>\n",
       "</table>\n",
       "<table class=\"simpletable\">\n",
       "<tr>\n",
       "  <th>Omnibus:</th>       <td>135.212</td> <th>  Durbin-Watson:     </th> <td>   1.572</td> \n",
       "</tr>\n",
       "<tr>\n",
       "  <th>Prob(Omnibus):</th> <td> 0.000</td>  <th>  Jarque-Bera (JB):  </th> <td> 914.884</td> \n",
       "</tr>\n",
       "<tr>\n",
       "  <th>Skew:</th>          <td>-0.435</td>  <th>  Prob(JB):          </th> <td>2.16e-199</td>\n",
       "</tr>\n",
       "<tr>\n",
       "  <th>Kurtosis:</th>      <td> 7.726</td>  <th>  Cond. No.          </th> <td>2.74e+15</td> \n",
       "</tr>\n",
       "</table><br/><br/>Warnings:<br/>[1] Standard Errors assume that the covariance matrix of the errors is correctly specified.<br/>[2] The condition number is large, 2.74e+15. This might indicate that there are<br/>strong multicollinearity or other numerical problems."
      ],
      "text/plain": [
       "<class 'statsmodels.iolib.summary.Summary'>\n",
       "\"\"\"\n",
       "                            OLS Regression Results                            \n",
       "==============================================================================\n",
       "Dep. Variable:                  close   R-squared:                       0.995\n",
       "Model:                            OLS   Adj. R-squared:                  0.995\n",
       "Method:                 Least Squares   F-statistic:                     3941.\n",
       "Date:                Mon, 29 Apr 2019   Prob (F-statistic):               0.00\n",
       "Time:                        14:33:26   Log-Likelihood:                -6743.3\n",
       "No. Observations:                 951   AIC:                         1.358e+04\n",
       "Df Residuals:                     906   BIC:                         1.380e+04\n",
       "Df Model:                          44                                         \n",
       "Covariance Type:            nonrobust                                         \n",
       "==============================================================================================================\n",
       "                                                 coef    std err          t      P>|t|      [0.025      0.975]\n",
       "--------------------------------------------------------------------------------------------------------------\n",
       "const                                         -0.4375      0.467     -0.937      0.349      -1.354       0.479\n",
       "difficulty                                  7.582e-10   5.51e-11     13.773      0.000     6.5e-10    8.66e-10\n",
       "est_transaction_volume_USD                  5.415e-07   5.74e-08      9.428      0.000    4.29e-07    6.54e-07\n",
       "trade_volume                               -8.431e-09   4.55e-08     -0.185      0.853   -9.78e-08    8.09e-08\n",
       "wallets_created                            -5.692e-07   1.26e-07     -4.509      0.000   -8.17e-07   -3.21e-07\n",
       "mempool_size_min                              2.7e-06   2.06e-06      1.308      0.191   -1.35e-06    6.75e-06\n",
       "mempool_size_mean                          -9.338e-07   4.27e-06     -0.219      0.827   -9.31e-06    7.45e-06\n",
       "mempool_size_max                           -2.915e-06   4.59e-06     -0.635      0.526   -1.19e-05     6.1e-06\n",
       "hash_rate                                  -8.434e-05   6.26e-06    -13.476      0.000   -9.66e-05   -7.21e-05\n",
       "miners_revenue                                 0.0003   1.19e-05     26.684      0.000       0.000       0.000\n",
       "transaction_fees_USD                          -0.0003   2.34e-05    -12.812      0.000      -0.000      -0.000\n",
       "mempool_size_stddev                         1.788e-05   9.66e-06      1.851      0.065   -1.08e-06    3.68e-05\n",
       "utxo_count_max                                 0.0013      0.001      1.034      0.301      -0.001       0.004\n",
       "utxo_count_mean                               -0.0013      0.001     -1.123      0.262      -0.004       0.001\n",
       "utxo_count_min                              2.727e-05      0.001      0.024      0.981      -0.002       0.002\n",
       "output_volume                               1.131e-05   1.41e-05      0.804      0.421   -1.63e-05    3.89e-05\n",
       "mempool_count_mean                            -0.0003      0.004     -0.068      0.946      -0.009       0.008\n",
       "mempool_count_min                             -0.0026      0.002     -1.169      0.243      -0.007       0.002\n",
       "est_transaction_volume                        -0.0024      0.000    -10.184      0.000      -0.003      -0.002\n",
       "mempool_count_max                              0.0052      0.005      1.111      0.267      -0.004       0.014\n",
       "n_unique_addresses                             0.0014      0.000      3.170      0.002       0.001       0.002\n",
       "utxo_count_stddev                             -0.0026      0.003     -0.785      0.433      -0.009       0.004\n",
       "total_bitcoins                             -3.999e-05   1.92e-05     -2.083      0.038   -7.77e-05   -2.31e-06\n",
       "mempool_growth_max                            -0.0011      0.002     -0.667      0.505      -0.004       0.002\n",
       "blocks_size                                    0.0003      0.002      0.127      0.899      -0.005       0.005\n",
       "n_transactions                                -0.0099      0.001     -7.353      0.000      -0.012      -0.007\n",
       "n_transactions_excl_popular                   -0.0011      0.001     -1.521      0.129      -0.002       0.000\n",
       "n_transactions_excl_chains_longer_than_100     0.0024      0.001      2.141      0.033       0.000       0.005\n",
       "mempool_count_stddev                          -0.0191      0.010     -1.898      0.058      -0.039       0.001\n",
       "news_stories_total                          -140.3725    175.467     -0.800      0.424    -484.742     203.996\n",
       "news_stories_negative                        140.3720    175.463      0.800      0.424    -203.990     484.734\n",
       "news_stories_positive                        140.3950    175.465      0.800      0.424    -203.970     484.760\n",
       "mempool_growth_stddev                         -0.0608      0.057     -1.073      0.283      -0.172       0.050\n",
       "transaction_fees                              -0.5471      0.247     -2.212      0.027      -1.033      -0.062\n",
       "news_stories_neutral                         140.7627    175.479      0.802      0.423    -203.629     485.155\n",
       "mempool_growth_mean                           -0.1554      0.105     -1.484      0.138      -0.361       0.050\n",
       "n_transactions_per_block                       1.1810      0.100     11.823      0.000       0.985       1.377\n",
       "mempool_growth_min                             0.0421      0.167      0.252      0.801      -0.285       0.370\n",
       "Neutral_Tweets                                -0.7116      0.462     -1.541      0.124      -1.618       0.195\n",
       "Positive_Tweets                                0.4122      0.585      0.705      0.481      -0.735       1.560\n",
       "cost_per_transaction                          27.8543      2.031     13.717      0.000      23.869      31.840\n",
       "Negative_Tweets                               -3.5736      1.194     -2.992      0.003      -5.917      -1.230\n",
       "transactions_per_sec_max                      -4.9017      2.625     -1.867      0.062     -10.053       0.250\n",
       "median_confirmation_time                      -7.8474      4.144     -1.893      0.059     -15.981       0.286\n",
       "cost_per_transaction_percent                -122.3998     36.908     -3.316      0.001    -194.834     -49.966\n",
       "transactions_per_sec_min                     -32.0416     57.732     -0.555      0.579    -145.346      81.263\n",
       "transactions_per_sec_mean                    353.0188     90.497      3.901      0.000     175.412     530.626\n",
       "==============================================================================\n",
       "Omnibus:                      135.212   Durbin-Watson:                   1.572\n",
       "Prob(Omnibus):                  0.000   Jarque-Bera (JB):              914.884\n",
       "Skew:                          -0.435   Prob(JB):                    2.16e-199\n",
       "Kurtosis:                       7.726   Cond. No.                     2.74e+15\n",
       "==============================================================================\n",
       "\n",
       "Warnings:\n",
       "[1] Standard Errors assume that the covariance matrix of the errors is correctly specified.\n",
       "[2] The condition number is large, 2.74e+15. This might indicate that there are\n",
       "strong multicollinearity or other numerical problems.\n",
       "\"\"\""
      ]
     },
     "execution_count": 643,
     "metadata": {},
     "output_type": "execute_result"
    }
   ],
   "source": [
    "#lin_reg.summary()"
   ]
  },
  {
   "cell_type": "code",
   "execution_count": null,
   "metadata": {},
   "outputs": [],
   "source": []
  },
  {
   "cell_type": "code",
   "execution_count": null,
   "metadata": {},
   "outputs": [],
   "source": []
  },
  {
   "cell_type": "code",
   "execution_count": null,
   "metadata": {},
   "outputs": [],
   "source": []
  },
  {
   "cell_type": "code",
   "execution_count": null,
   "metadata": {},
   "outputs": [],
   "source": []
  },
  {
   "cell_type": "code",
   "execution_count": 562,
   "metadata": {},
   "outputs": [],
   "source": [
    "#for idx, row in X.iterrows():\n",
    " #   if idx=='4/24/2016':\n",
    "  #      X.loc[idx,'change_difficulty'] = 0 #((X.loc[idx+1,'difficulty'] - X.loc[idx,'difficulty'])/ (X.loc[idx,'difficulty']))*100\n",
    "   # else:\n",
    "    #    X.loc[idx,'change_difficulty'] = ((X.loc[idx,'difficulty'] - X.loc[idx-1,'difficulty'])/ (X.loc[idx-1,'difficulty']))*100\n",
    "        "
   ]
  },
  {
   "cell_type": "code",
   "execution_count": null,
   "metadata": {},
   "outputs": [],
   "source": [
    "gsc = GridSearchCV(estimator=RandomForestRegressor(),param_grid={'max_depth': range(3,15),'n_estimators': (10, 50, 100, 1000),}, cv=5, scoring='neg_mean_squared_error', verbose=0,n_jobs=-1)\n",
    "grid_result = gsc.fit(X, y)\n",
    "best_params = grid_result.best_params_\n",
    "    \n",
    "\n"
   ]
  },
  {
   "cell_type": "code",
   "execution_count": 629,
   "metadata": {},
   "outputs": [
    {
     "data": {
      "text/plain": [
       "{'max_depth': 6, 'n_estimators': 10}"
      ]
     },
     "execution_count": 629,
     "metadata": {},
     "output_type": "execute_result"
    }
   ],
   "source": [
    "best_params"
   ]
  },
  {
   "cell_type": "code",
   "execution_count": 630,
   "metadata": {},
   "outputs": [],
   "source": [
    "rfr = RandomForestRegressor(max_depth=best_params[\"max_depth\"], n_estimators=best_params[\"n_estimators\"], random_state=False, verbose=2)\n",
    "# Perform K-Fold CV\n"
   ]
  },
  {
   "cell_type": "code",
   "execution_count": 631,
   "metadata": {},
   "outputs": [
    {
     "name": "stdout",
     "output_type": "stream",
     "text": [
      "building tree 1 of 10\n",
      "building tree 2 of 10\n",
      "building tree 3 of 10\n",
      "building tree 4 of 10\n",
      "building tree 5 of 10\n",
      "building tree 6 of 10\n",
      "building tree 7 of 10\n",
      "building tree 8 of 10\n",
      "building tree 9 of 10\n",
      "building tree 10 of 10\n"
     ]
    },
    {
     "name": "stderr",
     "output_type": "stream",
     "text": [
      "[Parallel(n_jobs=1)]: Done   1 out of   1 | elapsed:    0.0s remaining:    0.0s\n",
      "[Parallel(n_jobs=1)]: Done  10 out of  10 | elapsed:    0.1s finished\n"
     ]
    },
    {
     "data": {
      "text/plain": [
       "RandomForestRegressor(bootstrap=True, criterion='mse', max_depth=6,\n",
       "           max_features='auto', max_leaf_nodes=None,\n",
       "           min_impurity_decrease=0.0, min_impurity_split=None,\n",
       "           min_samples_leaf=1, min_samples_split=2,\n",
       "           min_weight_fraction_leaf=0.0, n_estimators=10, n_jobs=1,\n",
       "           oob_score=False, random_state=False, verbose=2,\n",
       "           warm_start=False)"
      ]
     },
     "execution_count": 631,
     "metadata": {},
     "output_type": "execute_result"
    }
   ],
   "source": [
    "rfr.fit(X,y)"
   ]
  },
  {
   "cell_type": "code",
   "execution_count": 168,
   "metadata": {},
   "outputs": [
    {
     "data": {
      "text/plain": [
       "{'max_depth': 6, 'n_estimators': 10}"
      ]
     },
     "execution_count": 168,
     "metadata": {},
     "output_type": "execute_result"
    }
   ],
   "source": [
    "best_params"
   ]
  },
  {
   "cell_type": "markdown",
   "metadata": {},
   "source": [
    "### Hyper param tune"
   ]
  },
  {
   "cell_type": "code",
   "execution_count": 113,
   "metadata": {},
   "outputs": [],
   "source": [
    "# Number of trees in random forest\n",
    "n_estimators = [int(x) for x in np.linspace(start = 10, stop = 500, num = 10)]\n",
    "# Number of features to consider at every split\n",
    "#max_features = ['auto', 'sqrt']\n",
    "# Maximum number of levels in tree\n",
    "max_depth = [int(x) for x in np.linspace(10, 110, num = 11)]\n",
    "max_depth.append(None)\n",
    "# Minimum number of samples required to split a node\n",
    "min_samples_split = [2, 5, 10]\n",
    "# Minimum number of samples required at each leaf node\n",
    "min_samples_leaf = [1, 2, 4]\n",
    "# Method of selecting samples for training each tree\n",
    "bootstrap = [True, False]\n",
    "# Create the random grid\n",
    "random_grid = {'n_estimators': n_estimators,\n",
    "               #'max_features': max_features,\n",
    "               'max_depth': max_depth,\n",
    "               'min_samples_split': min_samples_split,\n",
    "               'min_samples_leaf': min_samples_leaf,\n",
    "               'bootstrap': bootstrap}"
   ]
  },
  {
   "cell_type": "code",
   "execution_count": 114,
   "metadata": {},
   "outputs": [
    {
     "data": {
      "text/plain": [
       "{'n_estimators': [10, 64, 118, 173, 227, 282, 336, 391, 445, 500],\n",
       " 'max_depth': [10, 20, 30, 40, 50, 60, 70, 80, 90, 100, 110, None],\n",
       " 'min_samples_split': [2, 5, 10],\n",
       " 'min_samples_leaf': [1, 2, 4],\n",
       " 'bootstrap': [True, False]}"
      ]
     },
     "execution_count": 114,
     "metadata": {},
     "output_type": "execute_result"
    }
   ],
   "source": [
    "random_grid"
   ]
  },
  {
   "cell_type": "code",
   "execution_count": 80,
   "metadata": {},
   "outputs": [
    {
     "name": "stdout",
     "output_type": "stream",
     "text": [
      "Fitting 5 folds for each of 2160 candidates, totalling 10800 fits\n"
     ]
    },
    {
     "name": "stderr",
     "output_type": "stream",
     "text": [
      "[Parallel(n_jobs=-1)]: Done  33 tasks      | elapsed:   14.9s\n",
      "[Parallel(n_jobs=-1)]: Done 154 tasks      | elapsed:  1.2min\n",
      "[Parallel(n_jobs=-1)]: Done 357 tasks      | elapsed:  2.5min\n",
      "[Parallel(n_jobs=-1)]: Done 640 tasks      | elapsed:  4.5min\n",
      "[Parallel(n_jobs=-1)]: Done 1005 tasks      | elapsed:  7.3min\n",
      "[Parallel(n_jobs=-1)]: Done 1450 tasks      | elapsed: 11.4min\n",
      "[Parallel(n_jobs=-1)]: Done 1977 tasks      | elapsed: 14.9min\n",
      "[Parallel(n_jobs=-1)]: Done 2584 tasks      | elapsed: 20.0min\n",
      "[Parallel(n_jobs=-1)]: Done 3273 tasks      | elapsed: 24.8min\n",
      "[Parallel(n_jobs=-1)]: Done 4042 tasks      | elapsed: 29.3min\n",
      "[Parallel(n_jobs=-1)]: Done 4893 tasks      | elapsed: 34.6min\n",
      "[Parallel(n_jobs=-1)]: Done 5824 tasks      | elapsed: 43.1min\n",
      "[Parallel(n_jobs=-1)]: Done 6837 tasks      | elapsed: 55.5min\n",
      "[Parallel(n_jobs=-1)]: Done 7930 tasks      | elapsed: 67.1min\n",
      "[Parallel(n_jobs=-1)]: Done 9105 tasks      | elapsed: 80.3min\n",
      "[Parallel(n_jobs=-1)]: Done 10360 tasks      | elapsed: 93.7min\n",
      "[Parallel(n_jobs=-1)]: Done 10800 out of 10800 | elapsed: 98.7min finished\n"
     ]
    }
   ],
   "source": [
    "# Use the random grid to search for best hyperparameters\n",
    "# First create the base model to tune\n",
    "rf = RandomForestRegressor()\n",
    "# Random search of parameters, using 3 fold cross validation, \n",
    "# search across 100 different combinations, and use all available cores\n",
    "rf_random = GridSearchCV(estimator = rf, param_grid = random_grid, cv = 5,scoring='neg_mean_squared_error', verbose=2, n_jobs = -1)\n",
    "# Fit the random search model\n",
    "rf2 = rf_random.fit(X, y)"
   ]
  },
  {
   "cell_type": "markdown",
   "metadata": {},
   "source": [
    "### RandomSearchCV"
   ]
  },
  {
   "cell_type": "code",
   "execution_count": 116,
   "metadata": {},
   "outputs": [],
   "source": [
    "from sklearn.model_selection import RandomizedSearchCV"
   ]
  },
  {
   "cell_type": "code",
   "execution_count": 117,
   "metadata": {},
   "outputs": [
    {
     "name": "stdout",
     "output_type": "stream",
     "text": [
      "Fitting 5 folds for each of 100 candidates, totalling 500 fits\n"
     ]
    },
    {
     "name": "stderr",
     "output_type": "stream",
     "text": [
      "[Parallel(n_jobs=-1)]: Done  33 tasks      | elapsed:  1.8min\n",
      "[Parallel(n_jobs=-1)]: Done 154 tasks      | elapsed:  6.6min\n",
      "[Parallel(n_jobs=-1)]: Done 357 tasks      | elapsed: 15.4min\n",
      "[Parallel(n_jobs=-1)]: Done 500 out of 500 | elapsed: 20.1min finished\n"
     ]
    },
    {
     "data": {
      "text/plain": [
       "RandomizedSearchCV(cv=5, error_score='raise',\n",
       "          estimator=RandomForestRegressor(bootstrap=True, criterion='mse', max_depth=None,\n",
       "           max_features='auto', max_leaf_nodes=None,\n",
       "           min_impurity_decrease=0.0, min_impurity_split=None,\n",
       "           min_samples_leaf=1, min_samples_split=2,\n",
       "           min_weight_fraction_leaf=0.0, n_estimators=10, n_jobs=1,\n",
       "           oob_score=False, random_state=None, verbose=0, warm_start=False),\n",
       "          fit_params=None, iid=True, n_iter=100, n_jobs=-1,\n",
       "          param_distributions={'n_estimators': [10, 64, 118, 173, 227, 282, 336, 391, 445, 500], 'max_depth': [10, 20, 30, 40, 50, 60, 70, 80, 90, 100, 110, None], 'min_samples_split': [2, 5, 10], 'min_samples_leaf': [1, 2, 4], 'bootstrap': [True, False]},\n",
       "          pre_dispatch='2*n_jobs', random_state=42, refit=True,\n",
       "          return_train_score='warn', scoring=None, verbose=2)"
      ]
     },
     "execution_count": 117,
     "metadata": {},
     "output_type": "execute_result"
    }
   ],
   "source": [
    "# Use the random grid to search for best hyperparameters\n",
    "# First create the base model to tune\n",
    "rf3 = RandomForestRegressor()\n",
    "# Random search of parameters, using 3 fold cross validation, \n",
    "# search across 100 different combinations, and use all available cores\n",
    "X = timeseries_test_single[selected_columns]\n",
    "y = timeseries_test_single['close']\n",
    "rf3_random = RandomizedSearchCV(estimator = rf3, param_distributions = random_grid, n_iter = 100, cv = 5, verbose=2, random_state=42, n_jobs = -1)\n",
    "# Fit the random search model\n",
    "rf3_random.fit(X, y)"
   ]
  },
  {
   "cell_type": "code",
   "execution_count": 121,
   "metadata": {},
   "outputs": [
    {
     "name": "stdout",
     "output_type": "stream",
     "text": [
      "building tree 1 of 391\n",
      "building tree 2 of 391\n",
      "building tree 3 of 391\n",
      "building tree 4 of 391\n",
      "building tree 5 of 391\n",
      "building tree 6 of 391\n",
      "building tree 7 of 391\n",
      "building tree 8 of 391\n",
      "building tree 9 of 391\n",
      "building tree 10 of 391\n",
      "building tree 11 of 391\n",
      "building tree 12 of 391\n",
      "building tree 13 of 391\n",
      "building tree 14 of 391\n"
     ]
    },
    {
     "name": "stderr",
     "output_type": "stream",
     "text": [
      "[Parallel(n_jobs=1)]: Done   1 out of   1 | elapsed:    0.0s remaining:    0.0s\n"
     ]
    },
    {
     "name": "stdout",
     "output_type": "stream",
     "text": [
      "building tree 15 of 391\n",
      "building tree 16 of 391\n",
      "building tree 17 of 391\n",
      "building tree 18 of 391\n",
      "building tree 19 of 391\n",
      "building tree 20 of 391\n",
      "building tree 21 of 391\n",
      "building tree 22 of 391\n",
      "building tree 23 of 391\n",
      "building tree 24 of 391\n",
      "building tree 25 of 391\n",
      "building tree 26 of 391\n",
      "building tree 27 of 391\n",
      "building tree 28 of 391\n",
      "building tree 29 of 391\n",
      "building tree 30 of 391\n",
      "building tree 31 of 391\n",
      "building tree 32 of 391\n",
      "building tree 33 of 391\n",
      "building tree 34 of 391\n",
      "building tree 35 of 391\n",
      "building tree 36 of 391\n",
      "building tree 37 of 391\n",
      "building tree 38 of 391\n",
      "building tree 39 of 391\n",
      "building tree 40 of 391\n",
      "building tree 41 of 391\n",
      "building tree 42 of 391\n",
      "building tree 43 of 391\n",
      "building tree 44 of 391\n",
      "building tree 45 of 391\n",
      "building tree 46 of 391\n",
      "building tree 47 of 391\n",
      "building tree 48 of 391\n",
      "building tree 49 of 391\n",
      "building tree 50 of 391\n",
      "building tree 51 of 391\n",
      "building tree 52 of 391\n",
      "building tree 53 of 391\n",
      "building tree 54 of 391\n",
      "building tree 55 of 391\n",
      "building tree 56 of 391\n",
      "building tree 57 of 391\n",
      "building tree 58 of 391\n",
      "building tree 59 of 391\n",
      "building tree 60 of 391\n",
      "building tree 61 of 391\n",
      "building tree 62 of 391\n",
      "building tree 63 of 391\n",
      "building tree 64 of 391\n",
      "building tree 65 of 391\n",
      "building tree 66 of 391\n",
      "building tree 67 of 391\n",
      "building tree 68 of 391\n",
      "building tree 69 of 391\n",
      "building tree 70 of 391\n",
      "building tree 71 of 391\n",
      "building tree 72 of 391\n",
      "building tree 73 of 391\n",
      "building tree 74 of 391\n",
      "building tree 75 of 391\n",
      "building tree 76 of 391\n",
      "building tree 77 of 391\n",
      "building tree 78 of 391\n",
      "building tree 79 of 391\n",
      "building tree 80 of 391\n",
      "building tree 81 of 391\n",
      "building tree 82 of 391\n",
      "building tree 83 of 391\n",
      "building tree 84 of 391\n",
      "building tree 85 of 391\n",
      "building tree 86 of 391\n",
      "building tree 87 of 391\n",
      "building tree 88 of 391\n",
      "building tree 89 of 391\n",
      "building tree 90 of 391\n",
      "building tree 91 of 391\n",
      "building tree 92 of 391\n",
      "building tree 93 of 391\n",
      "building tree 94 of 391\n",
      "building tree 95 of 391\n",
      "building tree 96 of 391\n",
      "building tree 97 of 391\n",
      "building tree 98 of 391\n",
      "building tree 99 of 391\n",
      "building tree 100 of 391\n",
      "building tree 101 of 391\n",
      "building tree 102 of 391\n",
      "building tree 103 of 391\n",
      "building tree 104 of 391\n",
      "building tree 105 of 391\n",
      "building tree 106 of 391\n",
      "building tree 107 of 391\n",
      "building tree 108 of 391\n",
      "building tree 109 of 391\n",
      "building tree 110 of 391\n",
      "building tree 111 of 391\n",
      "building tree 112 of 391\n",
      "building tree 113 of 391\n",
      "building tree 114 of 391\n",
      "building tree 115 of 391\n",
      "building tree 116 of 391\n",
      "building tree 117 of 391\n",
      "building tree 118 of 391\n",
      "building tree 119 of 391\n",
      "building tree 120 of 391\n",
      "building tree 121 of 391\n",
      "building tree 122 of 391\n",
      "building tree 123 of 391\n",
      "building tree 124 of 391\n",
      "building tree 125 of 391\n",
      "building tree 126 of 391\n",
      "building tree 127 of 391\n",
      "building tree 128 of 391\n",
      "building tree 129 of 391\n",
      "building tree 130 of 391\n",
      "building tree 131 of 391\n",
      "building tree 132 of 391\n",
      "building tree 133 of 391\n",
      "building tree 134 of 391\n",
      "building tree 135 of 391\n",
      "building tree 136 of 391\n",
      "building tree 137 of 391\n",
      "building tree 138 of 391\n",
      "building tree 139 of 391\n",
      "building tree 140 of 391\n",
      "building tree 141 of 391\n",
      "building tree 142 of 391\n",
      "building tree 143 of 391\n",
      "building tree 144 of 391\n",
      "building tree 145 of 391\n",
      "building tree 146 of 391\n",
      "building tree 147 of 391\n",
      "building tree 148 of 391\n",
      "building tree 149 of 391\n",
      "building tree 150 of 391\n",
      "building tree 151 of 391\n",
      "building tree 152 of 391\n",
      "building tree 153 of 391\n",
      "building tree 154 of 391\n",
      "building tree 155 of 391\n",
      "building tree 156 of 391\n",
      "building tree 157 of 391\n",
      "building tree 158 of 391\n",
      "building tree 159 of 391\n",
      "building tree 160 of 391\n",
      "building tree 161 of 391\n",
      "building tree 162 of 391\n",
      "building tree 163 of 391\n",
      "building tree 164 of 391\n",
      "building tree 165 of 391\n",
      "building tree 166 of 391\n",
      "building tree 167 of 391\n",
      "building tree 168 of 391\n",
      "building tree 169 of 391\n",
      "building tree 170 of 391\n",
      "building tree 171 of 391\n",
      "building tree 172 of 391\n",
      "building tree 173 of 391\n",
      "building tree 174 of 391\n",
      "building tree 175 of 391\n",
      "building tree 176 of 391\n",
      "building tree 177 of 391\n",
      "building tree 178 of 391\n",
      "building tree 179 of 391\n",
      "building tree 180 of 391\n",
      "building tree 181 of 391\n",
      "building tree 182 of 391\n",
      "building tree 183 of 391\n",
      "building tree 184 of 391\n",
      "building tree 185 of 391\n",
      "building tree 186 of 391\n",
      "building tree 187 of 391\n",
      "building tree 188 of 391\n",
      "building tree 189 of 391\n",
      "building tree 190 of 391\n",
      "building tree 191 of 391\n",
      "building tree 192 of 391\n",
      "building tree 193 of 391\n",
      "building tree 194 of 391\n",
      "building tree 195 of 391\n",
      "building tree 196 of 391\n",
      "building tree 197 of 391\n",
      "building tree 198 of 391\n",
      "building tree 199 of 391\n",
      "building tree 200 of 391\n",
      "building tree 201 of 391\n",
      "building tree 202 of 391\n",
      "building tree 203 of 391\n",
      "building tree 204 of 391\n",
      "building tree 205 of 391\n",
      "building tree 206 of 391\n",
      "building tree 207 of 391\n",
      "building tree 208 of 391\n",
      "building tree 209 of 391\n",
      "building tree 210 of 391\n",
      "building tree 211 of 391\n",
      "building tree 212 of 391\n",
      "building tree 213 of 391\n",
      "building tree 214 of 391\n",
      "building tree 215 of 391\n",
      "building tree 216 of 391\n",
      "building tree 217 of 391\n",
      "building tree 218 of 391\n",
      "building tree 219 of 391\n",
      "building tree 220 of 391\n",
      "building tree 221 of 391\n",
      "building tree 222 of 391\n",
      "building tree 223 of 391\n",
      "building tree 224 of 391\n",
      "building tree 225 of 391\n",
      "building tree 226 of 391\n",
      "building tree 227 of 391\n",
      "building tree 228 of 391\n",
      "building tree 229 of 391\n",
      "building tree 230 of 391\n",
      "building tree 231 of 391\n",
      "building tree 232 of 391\n",
      "building tree 233 of 391\n",
      "building tree 234 of 391\n",
      "building tree 235 of 391\n",
      "building tree 236 of 391\n",
      "building tree 237 of 391\n",
      "building tree 238 of 391\n",
      "building tree 239 of 391\n",
      "building tree 240 of 391\n",
      "building tree 241 of 391\n",
      "building tree 242 of 391\n",
      "building tree 243 of 391\n",
      "building tree 244 of 391\n",
      "building tree 245 of 391\n",
      "building tree 246 of 391\n",
      "building tree 247 of 391\n",
      "building tree 248 of 391\n",
      "building tree 249 of 391\n",
      "building tree 250 of 391\n",
      "building tree 251 of 391\n",
      "building tree 252 of 391\n",
      "building tree 253 of 391\n",
      "building tree 254 of 391\n",
      "building tree 255 of 391\n",
      "building tree 256 of 391\n",
      "building tree 257 of 391\n",
      "building tree 258 of 391\n",
      "building tree 259 of 391\n",
      "building tree 260 of 391\n",
      "building tree 261 of 391\n",
      "building tree 262 of 391\n",
      "building tree 263 of 391\n",
      "building tree 264 of 391\n",
      "building tree 265 of 391\n",
      "building tree 266 of 391\n",
      "building tree 267 of 391\n",
      "building tree 268 of 391\n",
      "building tree 269 of 391\n",
      "building tree 270 of 391\n",
      "building tree 271 of 391\n",
      "building tree 272 of 391\n",
      "building tree 273 of 391\n",
      "building tree 274 of 391\n",
      "building tree 275 of 391\n",
      "building tree 276 of 391\n",
      "building tree 277 of 391\n",
      "building tree 278 of 391\n",
      "building tree 279 of 391\n",
      "building tree 280 of 391\n",
      "building tree 281 of 391\n",
      "building tree 282 of 391\n",
      "building tree 283 of 391\n",
      "building tree 284 of 391\n",
      "building tree 285 of 391\n",
      "building tree 286 of 391\n",
      "building tree 287 of 391\n",
      "building tree 288 of 391\n",
      "building tree 289 of 391\n",
      "building tree 290 of 391\n",
      "building tree 291 of 391\n",
      "building tree 292 of 391\n",
      "building tree 293 of 391\n",
      "building tree 294 of 391\n",
      "building tree 295 of 391\n",
      "building tree 296 of 391\n",
      "building tree 297 of 391\n",
      "building tree 298 of 391\n",
      "building tree 299 of 391\n",
      "building tree 300 of 391\n",
      "building tree 301 of 391\n",
      "building tree 302 of 391\n",
      "building tree 303 of 391\n",
      "building tree 304 of 391\n",
      "building tree 305 of 391\n",
      "building tree 306 of 391\n",
      "building tree 307 of 391\n",
      "building tree 308 of 391\n",
      "building tree 309 of 391\n",
      "building tree 310 of 391\n",
      "building tree 311 of 391\n",
      "building tree 312 of 391\n",
      "building tree 313 of 391\n",
      "building tree 314 of 391\n",
      "building tree 315 of 391\n",
      "building tree 316 of 391\n",
      "building tree 317 of 391\n",
      "building tree 318 of 391\n",
      "building tree 319 of 391\n",
      "building tree 320 of 391\n",
      "building tree 321 of 391\n",
      "building tree 322 of 391\n",
      "building tree 323 of 391\n",
      "building tree 324 of 391\n",
      "building tree 325 of 391\n",
      "building tree 326 of 391\n",
      "building tree 327 of 391\n",
      "building tree 328 of 391\n",
      "building tree 329 of 391\n",
      "building tree 330 of 391\n",
      "building tree 331 of 391\n",
      "building tree 332 of 391\n",
      "building tree 333 of 391\n",
      "building tree 334 of 391\n",
      "building tree 335 of 391\n",
      "building tree 336 of 391\n",
      "building tree 337 of 391\n",
      "building tree 338 of 391\n",
      "building tree 339 of 391\n",
      "building tree 340 of 391\n",
      "building tree 341 of 391\n",
      "building tree 342 of 391\n",
      "building tree 343 of 391\n",
      "building tree 344 of 391\n",
      "building tree 345 of 391\n",
      "building tree 346 of 391\n",
      "building tree 347 of 391\n",
      "building tree 348 of 391\n"
     ]
    },
    {
     "name": "stdout",
     "output_type": "stream",
     "text": [
      "building tree 349 of 391\n",
      "building tree 350 of 391\n",
      "building tree 351 of 391\n",
      "building tree 352 of 391\n",
      "building tree 353 of 391\n",
      "building tree 354 of 391\n",
      "building tree 355 of 391\n",
      "building tree 356 of 391\n",
      "building tree 357 of 391\n",
      "building tree 358 of 391\n",
      "building tree 359 of 391\n",
      "building tree 360 of 391\n",
      "building tree 361 of 391\n",
      "building tree 362 of 391\n",
      "building tree 363 of 391\n",
      "building tree 364 of 391\n",
      "building tree 365 of 391\n",
      "building tree 366 of 391\n",
      "building tree 367 of 391\n",
      "building tree 368 of 391\n",
      "building tree 369 of 391\n",
      "building tree 370 of 391\n",
      "building tree 371 of 391\n",
      "building tree 372 of 391\n",
      "building tree 373 of 391\n",
      "building tree 374 of 391\n",
      "building tree 375 of 391\n",
      "building tree 376 of 391\n",
      "building tree 377 of 391\n",
      "building tree 378 of 391\n",
      "building tree 379 of 391\n",
      "building tree 380 of 391\n",
      "building tree 381 of 391\n",
      "building tree 382 of 391\n",
      "building tree 383 of 391\n",
      "building tree 384 of 391\n",
      "building tree 385 of 391\n",
      "building tree 386 of 391\n",
      "building tree 387 of 391\n",
      "building tree 388 of 391\n",
      "building tree 389 of 391\n",
      "building tree 390 of 391\n",
      "building tree 391 of 391\n"
     ]
    },
    {
     "name": "stderr",
     "output_type": "stream",
     "text": [
      "[Parallel(n_jobs=1)]: Done 391 out of 391 | elapsed:    6.8s finished\n"
     ]
    },
    {
     "data": {
      "text/plain": [
       "RandomForestRegressor(bootstrap=True, criterion='mse', max_depth=None,\n",
       "           max_features='auto', max_leaf_nodes=None,\n",
       "           min_impurity_decrease=0.0, min_impurity_split=None,\n",
       "           min_samples_leaf=4, min_samples_split=2,\n",
       "           min_weight_fraction_leaf=0.0, n_estimators=391, n_jobs=1,\n",
       "           oob_score=False, random_state=None, verbose=2, warm_start=False)"
      ]
     },
     "execution_count": 121,
     "metadata": {},
     "output_type": "execute_result"
    }
   ],
   "source": [
    "X = timeseries_test_single[selected_columns]\n",
    "y = timeseries_test_single['close']\n",
    "rfr_r_tune = RandomForestRegressor(min_samples_leaf=4 ,bootstrap=True,min_samples_split=2,n_estimators=391,max_depth=None, verbose=2)\n",
    "rfr_r_tune.fit(X,y)"
   ]
  },
  {
   "cell_type": "code",
   "execution_count": null,
   "metadata": {},
   "outputs": [],
   "source": []
  },
  {
   "cell_type": "code",
   "execution_count": 118,
   "metadata": {},
   "outputs": [],
   "source": [
    "b_p = rf3_random.best_params_"
   ]
  },
  {
   "cell_type": "code",
   "execution_count": 119,
   "metadata": {},
   "outputs": [
    {
     "data": {
      "text/plain": [
       "{'n_estimators': 391,\n",
       " 'min_samples_split': 2,\n",
       " 'min_samples_leaf': 4,\n",
       " 'max_depth': None,\n",
       " 'bootstrap': True}"
      ]
     },
     "execution_count": 119,
     "metadata": {},
     "output_type": "execute_result"
    }
   ],
   "source": [
    "b_p"
   ]
  },
  {
   "cell_type": "code",
   "execution_count": 125,
   "metadata": {},
   "outputs": [
    {
     "name": "stdout",
     "output_type": "stream",
     "text": [
      "building tree 1 of 10\n",
      "building tree 2 of 10\n",
      "building tree 3 of 10\n",
      "building tree 4 of 10\n",
      "building tree 5 of 10\n",
      "building tree 6 of 10\n",
      "building tree 7 of 10\n",
      "building tree 8 of 10\n",
      "building tree 9 of 10\n",
      "building tree 10 of 10\n"
     ]
    },
    {
     "name": "stderr",
     "output_type": "stream",
     "text": [
      "[Parallel(n_jobs=1)]: Done   1 out of   1 | elapsed:    0.0s remaining:    0.0s\n",
      "[Parallel(n_jobs=1)]: Done  10 out of  10 | elapsed:    0.1s finished\n"
     ]
    },
    {
     "data": {
      "text/plain": [
       "RandomForestRegressor(bootstrap=True, criterion='mse', max_depth=70,\n",
       "           max_features='auto', max_leaf_nodes=None,\n",
       "           min_impurity_decrease=0.0, min_impurity_split=None,\n",
       "           min_samples_leaf=1, min_samples_split=10,\n",
       "           min_weight_fraction_leaf=0.0, n_estimators=10, n_jobs=1,\n",
       "           oob_score=False, random_state=None, verbose=2, warm_start=False)"
      ]
     },
     "execution_count": 125,
     "metadata": {},
     "output_type": "execute_result"
    }
   ],
   "source": [
    "X = timeseries_test_single[selected_columns]\n",
    "y = timeseries_test_single['close']\n",
    "rfr_tune = RandomForestRegressor(min_samples_leaf=1 ,bootstrap=True,min_samples_split=10,n_estimators=10,max_depth=70, verbose=2)\n",
    "rfr_tune.fit(X,y)"
   ]
  },
  {
   "cell_type": "code",
   "execution_count": null,
   "metadata": {},
   "outputs": [],
   "source": []
  },
  {
   "cell_type": "code",
   "execution_count": 27,
   "metadata": {},
   "outputs": [
    {
     "data": {
      "text/plain": [
       "{'max_depth': 6, 'n_estimators': 10}"
      ]
     },
     "execution_count": 27,
     "metadata": {},
     "output_type": "execute_result"
    }
   ],
   "source": [
    "best_params"
   ]
  },
  {
   "cell_type": "code",
   "execution_count": 7,
   "metadata": {},
   "outputs": [],
   "source": [
    "scores = cross_val_score(rfr, X, y, cv=10, scoring='neg_mean_absolute_error')"
   ]
  },
  {
   "cell_type": "code",
   "execution_count": 8,
   "metadata": {},
   "outputs": [
    {
     "data": {
      "text/plain": [
       "array([  -96.15399912,   -66.23202688,   -95.65921996,  -223.57961843,\n",
       "        -662.49395235, -1716.0044547 , -2564.406448  ,  -976.67922974,\n",
       "        -854.04462385,  -460.40307319])"
      ]
     },
     "execution_count": 8,
     "metadata": {},
     "output_type": "execute_result"
    }
   ],
   "source": [
    "scores"
   ]
  },
  {
   "cell_type": "markdown",
   "metadata": {},
   "source": [
    "## PREDICT"
   ]
  },
  {
   "cell_type": "code",
   "execution_count": 656,
   "metadata": {},
   "outputs": [],
   "source": [
    "actual_df = pd.read_csv('../Data/bitcoin_actual.csv',encoding='latin1')"
   ]
  },
  {
   "cell_type": "code",
   "execution_count": 657,
   "metadata": {},
   "outputs": [],
   "source": [
    "actual = actual_df.values\n",
    "actual = actual[:, 0]"
   ]
  },
  {
   "cell_type": "code",
   "execution_count": 658,
   "metadata": {},
   "outputs": [],
   "source": [
    "def mape_calc(y_true, y_pred):\n",
    "    y_true, y_pred = np.array(y_true), np.array(y_pred)\n",
    "    return np.mean(np.abs((y_true-y_pred)/y_true)) * 100\n"
   ]
  },
  {
   "cell_type": "code",
   "execution_count": 659,
   "metadata": {},
   "outputs": [],
   "source": [
    "test_predict = pd.read_csv('../Data/Output/test_timeseries_merged.csv',encoding='latin1')\n",
    "#test_predict = pd.read_csv('../Data/Output/test_timeseries_change.csv',encoding='latin1')\n",
    "\n",
    "test_predict.set_index('Date', inplace=True)\n",
    "\n",
    "test_predict_single = test_predict[selected_columns]"
   ]
  },
  {
   "cell_type": "code",
   "execution_count": 663,
   "metadata": {},
   "outputs": [
    {
     "data": {
      "text/plain": [
       "(113, 45)"
      ]
     },
     "execution_count": 663,
     "metadata": {},
     "output_type": "execute_result"
    }
   ],
   "source": [
    "#test_predict_single.shape"
   ]
  },
  {
   "cell_type": "code",
   "execution_count": 666,
   "metadata": {},
   "outputs": [],
   "source": [
    "#X_pred_constant = sm.add_constant(test_predict_single)"
   ]
  },
  {
   "cell_type": "code",
   "execution_count": 633,
   "metadata": {},
   "outputs": [
    {
     "name": "stderr",
     "output_type": "stream",
     "text": [
      "c:\\users\\rupadhyay\\python 3.6\\lib\\site-packages\\ipykernel_launcher.py:1: SettingWithCopyWarning: \n",
      "A value is trying to be set on a copy of a slice from a DataFrame.\n",
      "Try using .loc[row_indexer,col_indexer] = value instead\n",
      "\n",
      "See the caveats in the documentation: http://pandas.pydata.org/pandas-docs/stable/indexing.html#indexing-view-versus-copy\n",
      "  \"\"\"Entry point for launching an IPython kernel.\n",
      "c:\\users\\rupadhyay\\python 3.6\\lib\\site-packages\\ipykernel_launcher.py:2: SettingWithCopyWarning: \n",
      "A value is trying to be set on a copy of a slice from a DataFrame.\n",
      "Try using .loc[row_indexer,col_indexer] = value instead\n",
      "\n",
      "See the caveats in the documentation: http://pandas.pydata.org/pandas-docs/stable/indexing.html#indexing-view-versus-copy\n",
      "  \n",
      "c:\\users\\rupadhyay\\python 3.6\\lib\\site-packages\\ipykernel_launcher.py:3: SettingWithCopyWarning: \n",
      "A value is trying to be set on a copy of a slice from a DataFrame.\n",
      "Try using .loc[row_indexer,col_indexer] = value instead\n",
      "\n",
      "See the caveats in the documentation: http://pandas.pydata.org/pandas-docs/stable/indexing.html#indexing-view-versus-copy\n",
      "  This is separate from the ipykernel package so we can avoid doing imports until\n",
      "c:\\users\\rupadhyay\\python 3.6\\lib\\site-packages\\ipykernel_launcher.py:4: SettingWithCopyWarning: \n",
      "A value is trying to be set on a copy of a slice from a DataFrame.\n",
      "Try using .loc[row_indexer,col_indexer] = value instead\n",
      "\n",
      "See the caveats in the documentation: http://pandas.pydata.org/pandas-docs/stable/indexing.html#indexing-view-versus-copy\n",
      "  after removing the cwd from sys.path.\n",
      "c:\\users\\rupadhyay\\python 3.6\\lib\\site-packages\\ipykernel_launcher.py:5: SettingWithCopyWarning: \n",
      "A value is trying to be set on a copy of a slice from a DataFrame.\n",
      "Try using .loc[row_indexer,col_indexer] = value instead\n",
      "\n",
      "See the caveats in the documentation: http://pandas.pydata.org/pandas-docs/stable/indexing.html#indexing-view-versus-copy\n",
      "  \"\"\"\n",
      "c:\\users\\rupadhyay\\python 3.6\\lib\\site-packages\\ipykernel_launcher.py:6: SettingWithCopyWarning: \n",
      "A value is trying to be set on a copy of a slice from a DataFrame.\n",
      "Try using .loc[row_indexer,col_indexer] = value instead\n",
      "\n",
      "See the caveats in the documentation: http://pandas.pydata.org/pandas-docs/stable/indexing.html#indexing-view-versus-copy\n",
      "  \n"
     ]
    }
   ],
   "source": [
    "test_predict_single['difficulty_change'] = test_predict_single['difficulty_change'].astype(float)\n",
    "test_predict_single['est_transaction_volume_USD_change'] = test_predict_single['est_transaction_volume_USD_change'].astype(float)\n",
    "test_predict_single['trade_volume_change'] = test_predict_single['trade_volume_change'].astype(float)\n",
    "test_predict_single['wallets_created_change'] = test_predict_single['wallets_created_change'].astype(float)\n",
    "test_predict_single['mempool_size_min_change'] = test_predict_single['mempool_size_min_change'].astype(float)\n",
    "test_predict_single['mempool_size_mean_change'] = test_predict_single['mempool_size_mean_change'].astype(float)"
   ]
  },
  {
   "cell_type": "code",
   "execution_count": 634,
   "metadata": {},
   "outputs": [
    {
     "name": "stderr",
     "output_type": "stream",
     "text": [
      "c:\\users\\rupadhyay\\python 3.6\\lib\\site-packages\\ipykernel_launcher.py:1: SettingWithCopyWarning: \n",
      "A value is trying to be set on a copy of a slice from a DataFrame.\n",
      "Try using .loc[row_indexer,col_indexer] = value instead\n",
      "\n",
      "See the caveats in the documentation: http://pandas.pydata.org/pandas-docs/stable/indexing.html#indexing-view-versus-copy\n",
      "  \"\"\"Entry point for launching an IPython kernel.\n",
      "c:\\users\\rupadhyay\\python 3.6\\lib\\site-packages\\ipykernel_launcher.py:2: SettingWithCopyWarning: \n",
      "A value is trying to be set on a copy of a slice from a DataFrame.\n",
      "Try using .loc[row_indexer,col_indexer] = value instead\n",
      "\n",
      "See the caveats in the documentation: http://pandas.pydata.org/pandas-docs/stable/indexing.html#indexing-view-versus-copy\n",
      "  \n",
      "c:\\users\\rupadhyay\\python 3.6\\lib\\site-packages\\ipykernel_launcher.py:3: SettingWithCopyWarning: \n",
      "A value is trying to be set on a copy of a slice from a DataFrame.\n",
      "Try using .loc[row_indexer,col_indexer] = value instead\n",
      "\n",
      "See the caveats in the documentation: http://pandas.pydata.org/pandas-docs/stable/indexing.html#indexing-view-versus-copy\n",
      "  This is separate from the ipykernel package so we can avoid doing imports until\n",
      "c:\\users\\rupadhyay\\python 3.6\\lib\\site-packages\\ipykernel_launcher.py:4: SettingWithCopyWarning: \n",
      "A value is trying to be set on a copy of a slice from a DataFrame.\n",
      "Try using .loc[row_indexer,col_indexer] = value instead\n",
      "\n",
      "See the caveats in the documentation: http://pandas.pydata.org/pandas-docs/stable/indexing.html#indexing-view-versus-copy\n",
      "  after removing the cwd from sys.path.\n",
      "c:\\users\\rupadhyay\\python 3.6\\lib\\site-packages\\ipykernel_launcher.py:5: SettingWithCopyWarning: \n",
      "A value is trying to be set on a copy of a slice from a DataFrame.\n",
      "Try using .loc[row_indexer,col_indexer] = value instead\n",
      "\n",
      "See the caveats in the documentation: http://pandas.pydata.org/pandas-docs/stable/indexing.html#indexing-view-versus-copy\n",
      "  \"\"\"\n",
      "c:\\users\\rupadhyay\\python 3.6\\lib\\site-packages\\ipykernel_launcher.py:6: SettingWithCopyWarning: \n",
      "A value is trying to be set on a copy of a slice from a DataFrame.\n",
      "Try using .loc[row_indexer,col_indexer] = value instead\n",
      "\n",
      "See the caveats in the documentation: http://pandas.pydata.org/pandas-docs/stable/indexing.html#indexing-view-versus-copy\n",
      "  \n"
     ]
    }
   ],
   "source": [
    "test_predict_single['difficulty_change'] = test_predict_single['difficulty_change']*100\n",
    "test_predict_single['est_transaction_volume_USD_change'] = test_predict_single['est_transaction_volume_USD_change']*100\n",
    "test_predict_single['trade_volume_change'] = test_predict_single['trade_volume_change']*100\n",
    "test_predict_single['wallets_created_change'] = test_predict_single['wallets_created_change']*100\n",
    "test_predict_single['mempool_size_min_change'] = test_predict_single['mempool_size_min_change']*100\n",
    "test_predict_single['mempool_size_mean_change'] = test_predict_single['mempool_size_mean_change']*100"
   ]
  },
  {
   "cell_type": "code",
   "execution_count": null,
   "metadata": {},
   "outputs": [],
   "source": []
  },
  {
   "cell_type": "code",
   "execution_count": 667,
   "metadata": {},
   "outputs": [],
   "source": [
    "X_test_single = test_predict_single.copy()\n",
    "y_predicted_test_single = rfr.predict(X_test_single)\n",
    "#y_predicted_test_single = lin_reg.predict(X_pred_constant)\n",
    "df_pred_test_single = pd.DataFrame(y_predicted_test_single, index=y_predicted_test_single, columns=['close'])\n",
    "df_pred_test_single.reset_index(inplace=True)"
   ]
  },
  {
   "cell_type": "code",
   "execution_count": 668,
   "metadata": {},
   "outputs": [
    {
     "name": "stdout",
     "output_type": "stream",
     "text": [
      "91.0595244782596\n"
     ]
    }
   ],
   "source": [
    "print(100 - mape_calc(actual,y_predicted_test_single))\n",
    "#93.7764685193971\n",
    "#93.97515523891313"
   ]
  },
  {
   "cell_type": "code",
   "execution_count": 191,
   "metadata": {},
   "outputs": [],
   "source": [
    "df_pred_test_single.rename(columns = {\"Close\":\"close\"}, inplace=True)"
   ]
  },
  {
   "cell_type": "code",
   "execution_count": 192,
   "metadata": {},
   "outputs": [],
   "source": [
    "test_predict_wo_index = test_predict.reset_index()\n",
    "test_predict_wo_index.rename(columns = {\"Date\":\"date\"}, inplace=True)\n",
    "df_pred_test_concat = pd.concat((test_predict_wo_index['date'], df_pred_test_single['close'] ), axis=1)\n",
    "df_pred_test_concat.to_csv('../Data/Output/df_pred_test_rfr.csv',index=False)"
   ]
  },
  {
   "cell_type": "code",
   "execution_count": null,
   "metadata": {},
   "outputs": [],
   "source": []
  },
  {
   "cell_type": "markdown",
   "metadata": {},
   "source": []
  },
  {
   "cell_type": "code",
   "execution_count": null,
   "metadata": {},
   "outputs": [],
   "source": []
  }
 ],
 "metadata": {
  "kernelspec": {
   "display_name": "Python 3",
   "language": "python",
   "name": "python3"
  },
  "language_info": {
   "codemirror_mode": {
    "name": "ipython",
    "version": 3
   },
   "file_extension": ".py",
   "mimetype": "text/x-python",
   "name": "python",
   "nbconvert_exporter": "python",
   "pygments_lexer": "ipython3",
   "version": "3.6.5"
  }
 },
 "nbformat": 4,
 "nbformat_minor": 2
}
