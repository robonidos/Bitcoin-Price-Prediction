{
 "cells": [
  {
   "cell_type": "code",
   "execution_count": 1,
   "metadata": {},
   "outputs": [
    {
     "name": "stderr",
     "output_type": "stream",
     "text": [
      "Using TensorFlow backend.\n"
     ]
    }
   ],
   "source": [
    "from math import sqrt\n",
    "from numpy import concatenate\n",
    "from sklearn.preprocessing import MinMaxScaler\n",
    "from sklearn.preprocessing import LabelEncoder\n",
    "from sklearn.metrics import mean_squared_error\n",
    "from matplotlib import pyplot\n",
    "\n",
    "from pandas import read_csv\n",
    "from pandas import DataFrame\n",
    "from pandas import concat\n",
    "from keras.models import Sequential\n",
    "from keras.layers import Dense\n",
    "from keras.layers import LSTM\n",
    "\n",
    "import pandas as pd\n",
    "import re \n",
    "from matplotlib import pyplot\n",
    "import seaborn as sns\n",
    "import numpy as np\n",
    "import os\n",
    "from textblob import TextBlob\n",
    "import datetime\n",
    "from matplotlib import pyplot as plt\n"
   ]
  },
  {
   "cell_type": "code",
   "execution_count": 2,
   "metadata": {},
   "outputs": [],
   "source": [
    "timeseries_test = pd.read_csv('../Data/Output/timeseries_merged.csv',encoding='latin1')\n",
    "timeseries_test.set_index('Date', inplace=True)\n",
    "timeseries_test['difficulty'] = timeseries_test['difficulty'].apply(lambda x: '{:.2f}'.format(x))"
   ]
  },
  {
   "cell_type": "code",
   "execution_count": 3,
   "metadata": {},
   "outputs": [],
   "source": [
    "def series_to_supervised(data, n_in=1, n_out=1, dropnan=True):\n",
    "    n_vars = 1 if type(data) is list else data.shape[1]\n",
    "    df = pd.DataFrame(data)\n",
    "    cols, names = list(), list()\n",
    "    # input sequence (t-n, ... t-1)\n",
    "    for i in range(n_in, 0, -1):\n",
    "        cols.append(df.shift(i))\n",
    "        names += [('var%d(t-%d)' % (j+1, i)) for j in range(n_vars)]\n",
    "    # forecast sequence (t, t+1, ... t+n)\n",
    "    for i in range(0, n_out):\n",
    "        cols.append(df.shift(-i))\n",
    "        if i == 0:\n",
    "            names += [('var%d(t)' % (j+1)) for j in range(n_vars)]\n",
    "        else:\n",
    "            names += [('var%d(t+%d)' % (j+1, i)) for j in range(n_vars)]\n",
    "    # put it all together\n",
    "    agg = pd.concat(cols, axis=1)\n",
    "    agg.columns = names\n",
    "    # drop rows with NaN values\n",
    "    if dropnan:\n",
    "        agg.dropna(inplace=True)\n",
    "    return agg"
   ]
  },
  {
   "cell_type": "code",
   "execution_count": 23,
   "metadata": {},
   "outputs": [],
   "source": [
    "\n",
    "#x_cols = list(timeseries_test.columns)\n",
    "#x_cols.remove('close')\n",
    "#y_col=['close']"
   ]
  },
  {
   "cell_type": "code",
   "execution_count": 24,
   "metadata": {},
   "outputs": [],
   "source": [
    "#x_values = timeseries_test[x_cols].values\n",
    "#y_values = timeseries_test[y_col].values\n"
   ]
  },
  {
   "cell_type": "code",
   "execution_count": 25,
   "metadata": {},
   "outputs": [],
   "source": [
    "#scaled_merged = concatenate((y_values,x_values), axis=1)"
   ]
  },
  {
   "cell_type": "code",
   "execution_count": 7,
   "metadata": {},
   "outputs": [
    {
     "data": {
      "text/html": [
       "<div>\n",
       "<style scoped>\n",
       "    .dataframe tbody tr th:only-of-type {\n",
       "        vertical-align: middle;\n",
       "    }\n",
       "\n",
       "    .dataframe tbody tr th {\n",
       "        vertical-align: top;\n",
       "    }\n",
       "\n",
       "    .dataframe thead th {\n",
       "        text-align: right;\n",
       "    }\n",
       "</style>\n",
       "<table border=\"1\" class=\"dataframe\">\n",
       "  <thead>\n",
       "    <tr style=\"text-align: right;\">\n",
       "      <th></th>\n",
       "      <th>var1(t-1)</th>\n",
       "      <th>var2(t-1)</th>\n",
       "      <th>var3(t-1)</th>\n",
       "      <th>var4(t-1)</th>\n",
       "      <th>var5(t-1)</th>\n",
       "      <th>var6(t-1)</th>\n",
       "      <th>var7(t-1)</th>\n",
       "      <th>var8(t-1)</th>\n",
       "      <th>var9(t-1)</th>\n",
       "      <th>var10(t-1)</th>\n",
       "      <th>...</th>\n",
       "      <th>var26(t)</th>\n",
       "      <th>var27(t)</th>\n",
       "      <th>var28(t)</th>\n",
       "      <th>var29(t)</th>\n",
       "      <th>var30(t)</th>\n",
       "      <th>var31(t)</th>\n",
       "      <th>var32(t)</th>\n",
       "      <th>var33(t)</th>\n",
       "      <th>var34(t)</th>\n",
       "      <th>var35(t)</th>\n",
       "    </tr>\n",
       "  </thead>\n",
       "  <tbody>\n",
       "    <tr>\n",
       "      <th>1</th>\n",
       "      <td>458.55</td>\n",
       "      <td>0.72804</td>\n",
       "      <td>66022.7</td>\n",
       "      <td>1.38597</td>\n",
       "      <td>8.3607</td>\n",
       "      <td>178678000000.00</td>\n",
       "      <td>1.10486e+08</td>\n",
       "      <td>240501</td>\n",
       "      <td>1.17244e+06</td>\n",
       "      <td>1.5313e+06</td>\n",
       "      <td>...</td>\n",
       "      <td>0.671409</td>\n",
       "      <td>8.01667</td>\n",
       "      <td>3.6871e+07</td>\n",
       "      <td>17998.1</td>\n",
       "      <td>7</td>\n",
       "      <td>8</td>\n",
       "      <td>10</td>\n",
       "      <td>3</td>\n",
       "      <td>26</td>\n",
       "      <td>23</td>\n",
       "    </tr>\n",
       "    <tr>\n",
       "      <th>2</th>\n",
       "      <td>461.43</td>\n",
       "      <td>0.874485</td>\n",
       "      <td>66133.7</td>\n",
       "      <td>0.88846</td>\n",
       "      <td>6.86161</td>\n",
       "      <td>178678000000.00</td>\n",
       "      <td>1.68026e+08</td>\n",
       "      <td>362233</td>\n",
       "      <td>1.12803e+06</td>\n",
       "      <td>1.49284e+06</td>\n",
       "      <td>...</td>\n",
       "      <td>0.904975</td>\n",
       "      <td>9.5</td>\n",
       "      <td>3.69319e+07</td>\n",
       "      <td>16768.8</td>\n",
       "      <td>14</td>\n",
       "      <td>14</td>\n",
       "      <td>4</td>\n",
       "      <td>5</td>\n",
       "      <td>10</td>\n",
       "      <td>12</td>\n",
       "    </tr>\n",
       "    <tr>\n",
       "      <th>3</th>\n",
       "      <td>466.09</td>\n",
       "      <td>0.81318</td>\n",
       "      <td>66256.5</td>\n",
       "      <td>1.12996</td>\n",
       "      <td>7.67591</td>\n",
       "      <td>178678000000.00</td>\n",
       "      <td>1.70332e+08</td>\n",
       "      <td>363973</td>\n",
       "      <td>1.3412e+06</td>\n",
       "      <td>1.92469e+06</td>\n",
       "      <td>...</td>\n",
       "      <td>0.977362</td>\n",
       "      <td>13.3</td>\n",
       "      <td>3.70225e+07</td>\n",
       "      <td>16423.2</td>\n",
       "      <td>8</td>\n",
       "      <td>4</td>\n",
       "      <td>6</td>\n",
       "      <td>1</td>\n",
       "      <td>18</td>\n",
       "      <td>7</td>\n",
       "    </tr>\n",
       "    <tr>\n",
       "      <th>4</th>\n",
       "      <td>444.69</td>\n",
       "      <td>0.875343</td>\n",
       "      <td>66369.4</td>\n",
       "      <td>0.873767</td>\n",
       "      <td>6.11106</td>\n",
       "      <td>178678000000.00</td>\n",
       "      <td>1.67459e+08</td>\n",
       "      <td>374369</td>\n",
       "      <td>1.1458e+06</td>\n",
       "      <td>1.4632e+06</td>\n",
       "      <td>...</td>\n",
       "      <td>0.803247</td>\n",
       "      <td>11.25</td>\n",
       "      <td>3.70775e+07</td>\n",
       "      <td>18568.4</td>\n",
       "      <td>12</td>\n",
       "      <td>7</td>\n",
       "      <td>5</td>\n",
       "      <td>3</td>\n",
       "      <td>12</td>\n",
       "      <td>16</td>\n",
       "    </tr>\n",
       "    <tr>\n",
       "      <th>5</th>\n",
       "      <td>449.01</td>\n",
       "      <td>0.898219</td>\n",
       "      <td>66491.6</td>\n",
       "      <td>0.904082</td>\n",
       "      <td>6.26113</td>\n",
       "      <td>178666000000.00</td>\n",
       "      <td>1.71721e+08</td>\n",
       "      <td>381602</td>\n",
       "      <td>1.20784e+06</td>\n",
       "      <td>1.5525e+06</td>\n",
       "      <td>...</td>\n",
       "      <td>0.750259</td>\n",
       "      <td>7.95</td>\n",
       "      <td>3.71843e+07</td>\n",
       "      <td>34366.9</td>\n",
       "      <td>9</td>\n",
       "      <td>8</td>\n",
       "      <td>3</td>\n",
       "      <td>1</td>\n",
       "      <td>9</td>\n",
       "      <td>10</td>\n",
       "    </tr>\n",
       "  </tbody>\n",
       "</table>\n",
       "<p>5 rows × 70 columns</p>\n",
       "</div>"
      ],
      "text/plain": [
       "  var1(t-1) var2(t-1) var3(t-1) var4(t-1) var5(t-1)        var6(t-1)  \\\n",
       "1    458.55   0.72804   66022.7   1.38597    8.3607  178678000000.00   \n",
       "2    461.43  0.874485   66133.7   0.88846   6.86161  178678000000.00   \n",
       "3    466.09   0.81318   66256.5   1.12996   7.67591  178678000000.00   \n",
       "4    444.69  0.875343   66369.4  0.873767   6.11106  178678000000.00   \n",
       "5    449.01  0.898219   66491.6  0.904082   6.26113  178666000000.00   \n",
       "\n",
       "     var7(t-1) var8(t-1)    var9(t-1)   var10(t-1)   ...     var26(t)  \\\n",
       "1  1.10486e+08    240501  1.17244e+06   1.5313e+06   ...     0.671409   \n",
       "2  1.68026e+08    362233  1.12803e+06  1.49284e+06   ...     0.904975   \n",
       "3  1.70332e+08    363973   1.3412e+06  1.92469e+06   ...     0.977362   \n",
       "4  1.67459e+08    374369   1.1458e+06   1.4632e+06   ...     0.803247   \n",
       "5  1.71721e+08    381602  1.20784e+06   1.5525e+06   ...     0.750259   \n",
       "\n",
       "  var27(t)     var28(t) var29(t) var30(t) var31(t) var32(t) var33(t) var34(t)  \\\n",
       "1  8.01667   3.6871e+07  17998.1        7        8       10        3       26   \n",
       "2      9.5  3.69319e+07  16768.8       14       14        4        5       10   \n",
       "3     13.3  3.70225e+07  16423.2        8        4        6        1       18   \n",
       "4    11.25  3.70775e+07  18568.4       12        7        5        3       12   \n",
       "5     7.95  3.71843e+07  34366.9        9        8        3        1        9   \n",
       "\n",
       "  var35(t)  \n",
       "1       23  \n",
       "2       12  \n",
       "3        7  \n",
       "4       16  \n",
       "5       10  \n",
       "\n",
       "[5 rows x 70 columns]"
      ]
     },
     "execution_count": 7,
     "metadata": {},
     "output_type": "execute_result"
    }
   ],
   "source": [
    "#approach 2 not req\n",
    "#reframed = series_to_supervised(scaled_merged, 1, 1)\n",
    "#reframed.head()"
   ]
  },
  {
   "cell_type": "code",
   "execution_count": 118,
   "metadata": {},
   "outputs": [
    {
     "data": {
      "text/plain": [
       "(900, 35)"
      ]
     },
     "execution_count": 118,
     "metadata": {},
     "output_type": "execute_result"
    }
   ],
   "source": [
    "values = timeseries_test.values\n",
    "n_train_hours = 900\n",
    "train = values[:n_train_hours, :]\n",
    "test = values[n_train_hours:, :]\n",
    "train.shape"
   ]
  },
  {
   "cell_type": "code",
   "execution_count": 119,
   "metadata": {},
   "outputs": [],
   "source": [
    "n_hours = 1 \n",
    "n_features = 35 \n",
    "n_obs = n_hours*n_features"
   ]
  },
  {
   "cell_type": "code",
   "execution_count": 120,
   "metadata": {},
   "outputs": [],
   "source": [
    "# split into input and outputs\n",
    "train_X, train_y = train[:, 1:], train[:, 0]\n",
    "test_X, test_y = test[:, 1:], test[:, 0]"
   ]
  },
  {
   "cell_type": "code",
   "execution_count": 121,
   "metadata": {},
   "outputs": [
    {
     "data": {
      "text/plain": [
       "(51, 34)"
      ]
     },
     "execution_count": 121,
     "metadata": {},
     "output_type": "execute_result"
    }
   ],
   "source": [
    "test_X.shape"
   ]
  },
  {
   "cell_type": "code",
   "execution_count": 122,
   "metadata": {},
   "outputs": [],
   "source": [
    "x_train_scaler = MinMaxScaler(feature_range=(-1, 1))\n",
    "y_train_scaler = MinMaxScaler(feature_range=(-1, 1))\n",
    "\n",
    "x_test_scaler = MinMaxScaler(feature_range=(-1, 1))\n",
    "y_test_scaler = MinMaxScaler(feature_range=(-1, 1))\n"
   ]
  },
  {
   "cell_type": "code",
   "execution_count": 123,
   "metadata": {
    "scrolled": true
   },
   "outputs": [
    {
     "name": "stderr",
     "output_type": "stream",
     "text": [
      "c:\\users\\rupadhyay\\python 3.6\\lib\\site-packages\\sklearn\\utils\\validation.py:475: DataConversionWarning: Data with input dtype object was converted to float64 by MinMaxScaler.\n",
      "  warnings.warn(msg, DataConversionWarning)\n",
      "c:\\users\\rupadhyay\\python 3.6\\lib\\site-packages\\sklearn\\utils\\validation.py:475: DataConversionWarning: Data with input dtype object was converted to float64 by MinMaxScaler.\n",
      "  warnings.warn(msg, DataConversionWarning)\n"
     ]
    }
   ],
   "source": [
    "train_X = x_train_scaler.fit_transform(train_X)\n",
    "test_X = x_test_scaler.fit_transform(test_X)\n"
   ]
  },
  {
   "cell_type": "code",
   "execution_count": 124,
   "metadata": {},
   "outputs": [],
   "source": [
    "shape_train_y = train_y.reshape(-1, 1)"
   ]
  },
  {
   "cell_type": "code",
   "execution_count": 125,
   "metadata": {},
   "outputs": [
    {
     "name": "stderr",
     "output_type": "stream",
     "text": [
      "c:\\users\\rupadhyay\\python 3.6\\lib\\site-packages\\sklearn\\utils\\validation.py:475: DataConversionWarning: Data with input dtype object was converted to float64 by MinMaxScaler.\n",
      "  warnings.warn(msg, DataConversionWarning)\n"
     ]
    }
   ],
   "source": [
    "train_y = y_train_scaler.fit_transform(shape_train_y)"
   ]
  },
  {
   "cell_type": "code",
   "execution_count": 126,
   "metadata": {},
   "outputs": [],
   "source": [
    "train_y = train_y[:, 0]  # Reshape and convert to 1D array"
   ]
  },
  {
   "cell_type": "code",
   "execution_count": 127,
   "metadata": {},
   "outputs": [
    {
     "name": "stderr",
     "output_type": "stream",
     "text": [
      "c:\\users\\rupadhyay\\python 3.6\\lib\\site-packages\\sklearn\\utils\\validation.py:475: DataConversionWarning: Data with input dtype object was converted to float64 by MinMaxScaler.\n",
      "  warnings.warn(msg, DataConversionWarning)\n"
     ]
    }
   ],
   "source": [
    "shape_test_y = test_y.reshape(-1, 1)\n",
    "test_y = y_test_scaler.fit_transform(shape_test_y)\n",
    "test_y = test_y[:, 0]"
   ]
  },
  {
   "cell_type": "code",
   "execution_count": 128,
   "metadata": {},
   "outputs": [
    {
     "data": {
      "text/plain": [
       "(900, 34)"
      ]
     },
     "execution_count": 128,
     "metadata": {},
     "output_type": "execute_result"
    }
   ],
   "source": [
    "train_X.shape"
   ]
  },
  {
   "cell_type": "code",
   "execution_count": 129,
   "metadata": {},
   "outputs": [
    {
     "name": "stdout",
     "output_type": "stream",
     "text": [
      "(900, 1, 34) (900,) (51, 1, 34) (51,)\n"
     ]
    }
   ],
   "source": [
    "# reshape input to be 3D [samples, timesteps, features]\n",
    "train_X = train_X.reshape((train_X.shape[0], n_hours, 34))\n",
    "test_X = test_X.reshape((test_X.shape[0], n_hours, 34))\n",
    "print(train_X.shape, train_y.shape, test_X.shape, test_y.shape)"
   ]
  },
  {
   "cell_type": "code",
   "execution_count": 135,
   "metadata": {},
   "outputs": [
    {
     "name": "stdout",
     "output_type": "stream",
     "text": [
      "Train on 900 samples, validate on 51 samples\n",
      "Epoch 1/200\n",
      " - 3s - loss: 0.0886 - val_loss: 0.9961\n",
      "Epoch 2/200\n",
      " - 1s - loss: 0.0741 - val_loss: 0.9953\n",
      "Epoch 3/200\n",
      " - 1s - loss: 0.0592 - val_loss: 0.9972\n",
      "Epoch 4/200\n",
      " - 1s - loss: 0.0525 - val_loss: 0.9891\n",
      "Epoch 5/200\n",
      " - 1s - loss: 0.0448 - val_loss: 0.9763\n",
      "Epoch 6/200\n",
      " - 1s - loss: 0.0434 - val_loss: 0.9723\n",
      "Epoch 7/200\n",
      " - 1s - loss: 0.0447 - val_loss: 0.9560\n",
      "Epoch 8/200\n",
      " - 1s - loss: 0.0415 - val_loss: 0.8989\n",
      "Epoch 9/200\n",
      " - 1s - loss: 0.0395 - val_loss: 0.8623\n",
      "Epoch 10/200\n",
      " - 1s - loss: 0.0392 - val_loss: 0.8172\n",
      "Epoch 11/200\n",
      " - 1s - loss: 0.0386 - val_loss: 0.7964\n",
      "Epoch 12/200\n",
      " - 1s - loss: 0.0395 - val_loss: 0.7799\n",
      "Epoch 13/200\n",
      " - 1s - loss: 0.0366 - val_loss: 0.7551\n",
      "Epoch 14/200\n",
      " - 1s - loss: 0.0403 - val_loss: 0.7551\n",
      "Epoch 15/200\n",
      " - 1s - loss: 0.0416 - val_loss: 0.7103\n",
      "Epoch 16/200\n",
      " - 1s - loss: 0.0389 - val_loss: 0.7041\n",
      "Epoch 17/200\n",
      " - 1s - loss: 0.0396 - val_loss: 0.6849\n",
      "Epoch 18/200\n",
      " - 1s - loss: 0.0384 - val_loss: 0.7298\n",
      "Epoch 19/200\n",
      " - 1s - loss: 0.0377 - val_loss: 0.6927\n",
      "Epoch 20/200\n",
      " - 1s - loss: 0.0366 - val_loss: 0.6663\n",
      "Epoch 21/200\n",
      " - 1s - loss: 0.0360 - val_loss: 0.6425\n",
      "Epoch 22/200\n",
      " - 1s - loss: 0.0342 - val_loss: 0.6267\n",
      "Epoch 23/200\n",
      " - 1s - loss: 0.0353 - val_loss: 0.6108\n",
      "Epoch 24/200\n",
      " - 1s - loss: 0.0365 - val_loss: 0.6132\n",
      "Epoch 25/200\n",
      " - 1s - loss: 0.0347 - val_loss: 0.6038\n",
      "Epoch 26/200\n",
      " - 2s - loss: 0.0332 - val_loss: 0.6159\n",
      "Epoch 27/200\n",
      " - 1s - loss: 0.0340 - val_loss: 0.6072\n",
      "Epoch 28/200\n",
      " - 1s - loss: 0.0327 - val_loss: 0.5960\n",
      "Epoch 29/200\n",
      " - 1s - loss: 0.0336 - val_loss: 0.5653\n",
      "Epoch 30/200\n",
      " - 1s - loss: 0.0312 - val_loss: 0.5742\n",
      "Epoch 31/200\n",
      " - 1s - loss: 0.0312 - val_loss: 0.5763\n",
      "Epoch 32/200\n",
      " - 1s - loss: 0.0320 - val_loss: 0.5616\n",
      "Epoch 33/200\n",
      " - 1s - loss: 0.0295 - val_loss: 0.5774\n",
      "Epoch 34/200\n",
      " - 1s - loss: 0.0316 - val_loss: 0.5724\n",
      "Epoch 35/200\n",
      " - 1s - loss: 0.0306 - val_loss: 0.5826\n",
      "Epoch 36/200\n",
      " - 1s - loss: 0.0299 - val_loss: 0.5717\n",
      "Epoch 37/200\n",
      " - 1s - loss: 0.0290 - val_loss: 0.5599\n",
      "Epoch 38/200\n",
      " - 1s - loss: 0.0307 - val_loss: 0.5781\n",
      "Epoch 39/200\n",
      " - 1s - loss: 0.0299 - val_loss: 0.5722\n",
      "Epoch 40/200\n",
      " - 1s - loss: 0.0275 - val_loss: 0.5522\n",
      "Epoch 41/200\n",
      " - 1s - loss: 0.0304 - val_loss: 0.5688\n",
      "Epoch 42/200\n",
      " - 1s - loss: 0.0291 - val_loss: 0.5751\n",
      "Epoch 43/200\n",
      " - 1s - loss: 0.0275 - val_loss: 0.5561\n",
      "Epoch 44/200\n",
      " - 1s - loss: 0.0279 - val_loss: 0.5681\n",
      "Epoch 45/200\n",
      " - 1s - loss: 0.0291 - val_loss: 0.5670\n",
      "Epoch 46/200\n",
      " - 1s - loss: 0.0267 - val_loss: 0.5554\n",
      "Epoch 47/200\n",
      " - 1s - loss: 0.0266 - val_loss: 0.5566\n",
      "Epoch 48/200\n",
      " - 1s - loss: 0.0265 - val_loss: 0.5414\n",
      "Epoch 49/200\n",
      " - 1s - loss: 0.0265 - val_loss: 0.5223\n",
      "Epoch 50/200\n",
      " - 1s - loss: 0.0256 - val_loss: 0.5121\n",
      "Epoch 51/200\n",
      " - 1s - loss: 0.0248 - val_loss: 0.5216\n",
      "Epoch 52/200\n",
      " - 1s - loss: 0.0242 - val_loss: 0.5773\n",
      "Epoch 53/200\n",
      " - 1s - loss: 0.0293 - val_loss: 0.5597\n",
      "Epoch 54/200\n",
      " - 1s - loss: 0.0261 - val_loss: 0.5626\n",
      "Epoch 55/200\n",
      " - 1s - loss: 0.0251 - val_loss: 0.5573\n",
      "Epoch 56/200\n",
      " - 1s - loss: 0.0243 - val_loss: 0.5354\n",
      "Epoch 57/200\n",
      " - 1s - loss: 0.0245 - val_loss: 0.4871\n",
      "Epoch 58/200\n",
      " - 1s - loss: 0.0249 - val_loss: 0.4960\n",
      "Epoch 59/200\n",
      " - 1s - loss: 0.0250 - val_loss: 0.5320\n",
      "Epoch 60/200\n",
      " - 1s - loss: 0.0227 - val_loss: 0.5422\n",
      "Epoch 61/200\n",
      " - 1s - loss: 0.0220 - val_loss: 0.5488\n",
      "Epoch 62/200\n",
      " - 1s - loss: 0.0230 - val_loss: 0.5471\n",
      "Epoch 63/200\n",
      " - 1s - loss: 0.0236 - val_loss: 0.5609\n",
      "Epoch 64/200\n",
      " - 1s - loss: 0.0229 - val_loss: 0.5418\n",
      "Epoch 65/200\n",
      " - 1s - loss: 0.0219 - val_loss: 0.5049\n",
      "Epoch 66/200\n",
      " - 1s - loss: 0.0213 - val_loss: 0.4824\n",
      "Epoch 67/200\n",
      " - 1s - loss: 0.0212 - val_loss: 0.4724\n",
      "Epoch 68/200\n",
      " - 1s - loss: 0.0202 - val_loss: 0.4895\n",
      "Epoch 69/200\n",
      " - 1s - loss: 0.0214 - val_loss: 0.5276\n",
      "Epoch 70/200\n",
      " - 1s - loss: 0.0223 - val_loss: 0.5082\n",
      "Epoch 71/200\n",
      " - 1s - loss: 0.0198 - val_loss: 0.5050\n",
      "Epoch 72/200\n",
      " - 1s - loss: 0.0207 - val_loss: 0.5147\n",
      "Epoch 73/200\n",
      " - 1s - loss: 0.0213 - val_loss: 0.5071\n",
      "Epoch 74/200\n",
      " - 1s - loss: 0.0201 - val_loss: 0.4853\n",
      "Epoch 75/200\n",
      " - 2s - loss: 0.0201 - val_loss: 0.5034\n",
      "Epoch 76/200\n",
      " - 2s - loss: 0.0203 - val_loss: 0.4816\n",
      "Epoch 77/200\n",
      " - 1s - loss: 0.0201 - val_loss: 0.4492\n",
      "Epoch 78/200\n",
      " - 1s - loss: 0.0187 - val_loss: 0.4711\n",
      "Epoch 79/200\n",
      " - 1s - loss: 0.0196 - val_loss: 0.5063\n",
      "Epoch 80/200\n",
      " - 1s - loss: 0.0184 - val_loss: 0.4902\n",
      "Epoch 81/200\n",
      " - 1s - loss: 0.0176 - val_loss: 0.4867\n",
      "Epoch 82/200\n",
      " - 1s - loss: 0.0178 - val_loss: 0.5043\n",
      "Epoch 83/200\n",
      " - 1s - loss: 0.0203 - val_loss: 0.5002\n",
      "Epoch 84/200\n",
      " - 1s - loss: 0.0227 - val_loss: 0.5199\n",
      "Epoch 85/200\n",
      " - 1s - loss: 0.0213 - val_loss: 0.4886\n",
      "Epoch 86/200\n",
      " - 1s - loss: 0.0196 - val_loss: 0.4590\n",
      "Epoch 87/200\n",
      " - 1s - loss: 0.0188 - val_loss: 0.4367\n",
      "Epoch 88/200\n",
      " - 1s - loss: 0.0184 - val_loss: 0.4282\n",
      "Epoch 89/200\n",
      " - 1s - loss: 0.0191 - val_loss: 0.4189\n",
      "Epoch 90/200\n",
      " - 1s - loss: 0.0191 - val_loss: 0.4306\n",
      "Epoch 91/200\n",
      " - 1s - loss: 0.0185 - val_loss: 0.4540\n",
      "Epoch 92/200\n",
      " - 1s - loss: 0.0178 - val_loss: 0.4791\n",
      "Epoch 93/200\n",
      " - 1s - loss: 0.0175 - val_loss: 0.4638\n",
      "Epoch 94/200\n",
      " - 1s - loss: 0.0195 - val_loss: 0.4727\n",
      "Epoch 95/200\n",
      " - 1s - loss: 0.0172 - val_loss: 0.4381\n",
      "Epoch 96/200\n",
      " - 1s - loss: 0.0192 - val_loss: 0.4293\n",
      "Epoch 97/200\n",
      " - 1s - loss: 0.0187 - val_loss: 0.4301\n",
      "Epoch 98/200\n",
      " - 1s - loss: 0.0160 - val_loss: 0.4471\n",
      "Epoch 99/200\n",
      " - 1s - loss: 0.0160 - val_loss: 0.4486\n",
      "Epoch 100/200\n",
      " - 1s - loss: 0.0159 - val_loss: 0.4632\n",
      "Epoch 101/200\n",
      " - 1s - loss: 0.0200 - val_loss: 0.4389\n",
      "Epoch 102/200\n",
      " - 1s - loss: 0.0175 - val_loss: 0.3940\n",
      "Epoch 103/200\n",
      " - 1s - loss: 0.0178 - val_loss: 0.3811\n",
      "Epoch 104/200\n",
      " - 1s - loss: 0.0199 - val_loss: 0.4112\n",
      "Epoch 105/200\n",
      " - 1s - loss: 0.0189 - val_loss: 0.4283\n",
      "Epoch 106/200\n",
      " - 1s - loss: 0.0165 - val_loss: 0.4318\n",
      "Epoch 107/200\n",
      " - 1s - loss: 0.0157 - val_loss: 0.4335\n",
      "Epoch 108/200\n",
      " - 1s - loss: 0.0179 - val_loss: 0.4466\n",
      "Epoch 109/200\n",
      " - 2s - loss: 0.0188 - val_loss: 0.4433\n",
      "Epoch 110/200\n",
      " - 1s - loss: 0.0182 - val_loss: 0.4031\n",
      "Epoch 111/200\n",
      " - 1s - loss: 0.0165 - val_loss: 0.4072\n",
      "Epoch 112/200\n",
      " - 1s - loss: 0.0198 - val_loss: 0.4041\n",
      "Epoch 113/200\n",
      " - 1s - loss: 0.0208 - val_loss: 0.3880\n",
      "Epoch 114/200\n",
      " - 1s - loss: 0.0208 - val_loss: 0.4323\n",
      "Epoch 115/200\n",
      " - 1s - loss: 0.0193 - val_loss: 0.4490\n",
      "Epoch 116/200\n",
      " - 1s - loss: 0.0211 - val_loss: 0.4196\n",
      "Epoch 117/200\n",
      " - 1s - loss: 0.0196 - val_loss: 0.3736\n",
      "Epoch 118/200\n",
      " - 1s - loss: 0.0192 - val_loss: 0.3790\n",
      "Epoch 119/200\n",
      " - 1s - loss: 0.0185 - val_loss: 0.3764\n",
      "Epoch 120/200\n",
      " - 1s - loss: 0.0174 - val_loss: 0.3992\n",
      "Epoch 121/200\n",
      " - 1s - loss: 0.0172 - val_loss: 0.3835\n",
      "Epoch 122/200\n",
      " - 1s - loss: 0.0180 - val_loss: 0.3997\n",
      "Epoch 123/200\n",
      " - 1s - loss: 0.0164 - val_loss: 0.3920\n",
      "Epoch 124/200\n",
      " - 1s - loss: 0.0157 - val_loss: 0.4149\n",
      "Epoch 125/200\n",
      " - 1s - loss: 0.0167 - val_loss: 0.3933\n",
      "Epoch 126/200\n",
      " - 1s - loss: 0.0166 - val_loss: 0.3604\n",
      "Epoch 127/200\n",
      " - 1s - loss: 0.0173 - val_loss: 0.3617\n",
      "Epoch 128/200\n",
      " - 1s - loss: 0.0159 - val_loss: 0.3854\n",
      "Epoch 129/200\n",
      " - 2s - loss: 0.0161 - val_loss: 0.3447\n",
      "Epoch 130/200\n",
      " - 2s - loss: 0.0152 - val_loss: 0.3676\n",
      "Epoch 131/200\n",
      " - 1s - loss: 0.0148 - val_loss: 0.3783\n",
      "Epoch 132/200\n",
      " - 1s - loss: 0.0148 - val_loss: 0.3355\n",
      "Epoch 133/200\n",
      " - 1s - loss: 0.0143 - val_loss: 0.3391\n",
      "Epoch 134/200\n",
      " - 1s - loss: 0.0148 - val_loss: 0.3770\n",
      "Epoch 135/200\n",
      " - 1s - loss: 0.0150 - val_loss: 0.3749\n",
      "Epoch 136/200\n",
      " - 1s - loss: 0.0148 - val_loss: 0.3616\n",
      "Epoch 137/200\n",
      " - 1s - loss: 0.0158 - val_loss: 0.3716\n",
      "Epoch 138/200\n",
      " - 1s - loss: 0.0142 - val_loss: 0.3733\n",
      "Epoch 139/200\n",
      " - 1s - loss: 0.0144 - val_loss: 0.3631\n",
      "Epoch 140/200\n",
      " - 1s - loss: 0.0165 - val_loss: 0.4092\n",
      "Epoch 141/200\n",
      " - 1s - loss: 0.0178 - val_loss: 0.3676\n",
      "Epoch 142/200\n",
      " - 1s - loss: 0.0161 - val_loss: 0.3187\n",
      "Epoch 143/200\n",
      " - 1s - loss: 0.0169 - val_loss: 0.3305\n",
      "Epoch 144/200\n",
      " - 1s - loss: 0.0167 - val_loss: 0.3350\n",
      "Epoch 145/200\n",
      " - 1s - loss: 0.0156 - val_loss: 0.3512\n",
      "Epoch 146/200\n",
      " - 1s - loss: 0.0152 - val_loss: 0.3828\n",
      "Epoch 147/200\n",
      " - 1s - loss: 0.0163 - val_loss: 0.3993\n",
      "Epoch 148/200\n",
      " - 1s - loss: 0.0165 - val_loss: 0.3781\n",
      "Epoch 149/200\n",
      " - 1s - loss: 0.0153 - val_loss: 0.3531\n",
      "Epoch 150/200\n",
      " - 2s - loss: 0.0140 - val_loss: 0.3391\n",
      "Epoch 151/200\n",
      " - 1s - loss: 0.0141 - val_loss: 0.3624\n",
      "Epoch 152/200\n",
      " - 1s - loss: 0.0149 - val_loss: 0.3567\n",
      "Epoch 153/200\n",
      " - 1s - loss: 0.0150 - val_loss: 0.3365\n"
     ]
    },
    {
     "name": "stdout",
     "output_type": "stream",
     "text": [
      "Epoch 154/200\n",
      " - 1s - loss: 0.0154 - val_loss: 0.3684\n",
      "Epoch 155/200\n",
      " - 1s - loss: 0.0141 - val_loss: 0.3712\n",
      "Epoch 156/200\n",
      " - 1s - loss: 0.0163 - val_loss: 0.3713\n",
      "Epoch 157/200\n",
      " - 1s - loss: 0.0160 - val_loss: 0.3488\n",
      "Epoch 158/200\n",
      " - 1s - loss: 0.0169 - val_loss: 0.3295\n",
      "Epoch 159/200\n",
      " - 1s - loss: 0.0158 - val_loss: 0.3425\n",
      "Epoch 160/200\n",
      " - 1s - loss: 0.0163 - val_loss: 0.3835\n",
      "Epoch 161/200\n",
      " - 1s - loss: 0.0173 - val_loss: 0.3757\n",
      "Epoch 162/200\n",
      " - 1s - loss: 0.0167 - val_loss: 0.3617\n",
      "Epoch 163/200\n",
      " - 1s - loss: 0.0166 - val_loss: 0.3570\n",
      "Epoch 164/200\n",
      " - 1s - loss: 0.0162 - val_loss: 0.3526\n",
      "Epoch 165/200\n",
      " - 1s - loss: 0.0156 - val_loss: 0.3425\n",
      "Epoch 166/200\n",
      " - 1s - loss: 0.0172 - val_loss: 0.3173\n",
      "Epoch 167/200\n",
      " - 1s - loss: 0.0172 - val_loss: 0.3230\n",
      "Epoch 168/200\n",
      " - 2s - loss: 0.0156 - val_loss: 0.3415\n",
      "Epoch 169/200\n",
      " - 1s - loss: 0.0184 - val_loss: 0.3596\n",
      "Epoch 170/200\n",
      " - 1s - loss: 0.0163 - val_loss: 0.3592\n",
      "Epoch 171/200\n",
      " - 1s - loss: 0.0157 - val_loss: 0.3591\n",
      "Epoch 172/200\n",
      " - 1s - loss: 0.0172 - val_loss: 0.3528\n",
      "Epoch 173/200\n",
      " - 1s - loss: 0.0160 - val_loss: 0.3300\n",
      "Epoch 174/200\n",
      " - 1s - loss: 0.0167 - val_loss: 0.3136\n",
      "Epoch 175/200\n",
      " - 1s - loss: 0.0153 - val_loss: 0.3235\n",
      "Epoch 176/200\n",
      " - 2s - loss: 0.0170 - val_loss: 0.3260\n",
      "Epoch 177/200\n",
      " - 1s - loss: 0.0158 - val_loss: 0.3538\n",
      "Epoch 178/200\n",
      " - 1s - loss: 0.0135 - val_loss: 0.3670\n",
      "Epoch 179/200\n",
      " - 1s - loss: 0.0151 - val_loss: 0.3504\n",
      "Epoch 180/200\n",
      " - 1s - loss: 0.0175 - val_loss: 0.3539\n",
      "Epoch 181/200\n",
      " - 2s - loss: 0.0160 - val_loss: 0.3367\n",
      "Epoch 182/200\n",
      " - 1s - loss: 0.0145 - val_loss: 0.2982\n",
      "Epoch 183/200\n",
      " - 1s - loss: 0.0149 - val_loss: 0.3061\n",
      "Epoch 184/200\n",
      " - 1s - loss: 0.0154 - val_loss: 0.3332\n",
      "Epoch 185/200\n",
      " - 1s - loss: 0.0163 - val_loss: 0.3571\n",
      "Epoch 186/200\n",
      " - 1s - loss: 0.0164 - val_loss: 0.3766\n",
      "Epoch 187/200\n",
      " - 1s - loss: 0.0159 - val_loss: 0.3724\n",
      "Epoch 188/200\n",
      " - 1s - loss: 0.0164 - val_loss: 0.3592\n",
      "Epoch 189/200\n",
      " - 2s - loss: 0.0180 - val_loss: 0.3272\n",
      "Epoch 190/200\n",
      " - 1s - loss: 0.0149 - val_loss: 0.3121\n",
      "Epoch 191/200\n",
      " - 1s - loss: 0.0143 - val_loss: 0.3178\n",
      "Epoch 192/200\n",
      " - 1s - loss: 0.0140 - val_loss: 0.3190\n",
      "Epoch 193/200\n",
      " - 2s - loss: 0.0141 - val_loss: 0.3560\n",
      "Epoch 194/200\n",
      " - 1s - loss: 0.0150 - val_loss: 0.3524\n",
      "Epoch 195/200\n",
      " - 1s - loss: 0.0183 - val_loss: 0.3579\n",
      "Epoch 196/200\n",
      " - 1s - loss: 0.0155 - val_loss: 0.3586\n",
      "Epoch 197/200\n",
      " - 1s - loss: 0.0148 - val_loss: 0.3341\n",
      "Epoch 198/200\n",
      " - 1s - loss: 0.0158 - val_loss: 0.3327\n",
      "Epoch 199/200\n",
      " - 1s - loss: 0.0157 - val_loss: 0.3600\n",
      "Epoch 200/200\n",
      " - 1s - loss: 0.0139 - val_loss: 0.3972\n"
     ]
    }
   ],
   "source": [
    "# design network\n",
    "model = Sequential()\n",
    "model.add(LSTM(34, input_shape=(train_X.shape[1], train_X.shape[2])))\n",
    "model.add(Dense(1))\n",
    "model.compile(loss='mae', optimizer='adam')\n",
    "# fit network\n",
    "history = model.fit(train_X, train_y, epochs=200, batch_size=2, validation_data=(test_X, test_y), verbose=2, shuffle=False,validation_split=0.1)\n"
   ]
  },
  {
   "cell_type": "code",
   "execution_count": 136,
   "metadata": {},
   "outputs": [
    {
     "data": {
      "image/png": "[encoded data removed]",
      "text/plain": [
       "<Figure size 432x288 with 1 Axes>"
      ]
     },
     "metadata": {},
     "output_type": "display_data"
    }
   ],
   "source": [
    "plt.plot(history.history['loss'], label='train')\n",
    "plt.plot(history.history['val_loss'], label='test')\n",
    "plt.legend()\n",
    "plt.show()"
   ]
  },
  {
   "cell_type": "code",
   "execution_count": null,
   "metadata": {},
   "outputs": [],
   "source": [
    "# make a prediction\n",
    "yhat = model.predict(test_X)\n",
    "test_X = test_X.reshape((test_X.shape[0], n_hours* n_features,))\n",
    "# invert scaling for forecast\n",
    "inv_yhat = concatenate((yhat, test_X[:, -34:]), axis=1)\n",
    "x_scaler.fit(inv_yhat)\n",
    "inv_yhat = x_scaler.inverse_transform(inv_yhat)\n",
    "inv_yhat = inv_yhat[:,0]\n",
    "# invert scaling for actual\n",
    "test_y = test_y.reshape((len(test_y), 1))\n",
    "y_scaler.fit(test_y)\n",
    "\n",
    "inv_y = concatenate((test_y, test_X[:, -34:]), axis=1)\n",
    "inv_y = y_scaler.inverse_transform(inv_y)\n",
    "\n",
    "#inv_y = scaler.inverse_transform(inv_y)\n",
    "inv_y = inv_y[:,0]\n",
    "# calculate RMSE\n",
    "mse = (mean_squared_error(inv_y, inv_yhat))\n",
    "print('Test MSE: %.3f' % mse)\n",
    "rmse = sqrt(mean_squared_error(inv_y, inv_yhat))\n",
    "print('Test RMSE: %.3f' % rmse)"
   ]
  },
  {
   "cell_type": "code",
   "execution_count": 137,
   "metadata": {},
   "outputs": [],
   "source": [
    "yhat = model.predict(test_X)"
   ]
  },
  {
   "cell_type": "code",
   "execution_count": 138,
   "metadata": {},
   "outputs": [],
   "source": [
    "rmse = sqrt(mean_squared_error(test_y, yhat))"
   ]
  },
  {
   "cell_type": "code",
   "execution_count": 139,
   "metadata": {},
   "outputs": [
    {
     "data": {
      "text/plain": [
       "0.45481024775282775"
      ]
     },
     "execution_count": 139,
     "metadata": {},
     "output_type": "execute_result"
    }
   ],
   "source": [
    "rmse \n",
    "# 0.7230 for 100 epochs\n",
    "# 0.530 for 200 epochs\n",
    "# 0.70 for 300 epochs\n",
    "#0.49 for 200 epochs and batch size 2"
   ]
  },
  {
   "cell_type": "code",
   "execution_count": 90,
   "metadata": {},
   "outputs": [],
   "source": [
    "yhat = y_test_scaler.inverse_transform(yhat)"
   ]
  },
  {
   "cell_type": "code",
   "execution_count": 91,
   "metadata": {},
   "outputs": [
    {
     "data": {
      "text/plain": [
       "array([[6076.2466],\n",
       "       [6075.5083],\n",
       "       [5095.597 ],\n",
       "       [5139.1636],\n",
       "       [5820.267 ],\n",
       "       [6259.1367],\n",
       "       [6346.3237],\n",
       "       [6125.364 ],\n",
       "       [6268.4175],\n",
       "       [5734.474 ],\n",
       "       [5368.2974],\n",
       "       [6085.867 ],\n",
       "       [6133.079 ],\n",
       "       [5000.772 ],\n",
       "       [5981.7144],\n",
       "       [6152.7417],\n",
       "       [5316.1133],\n",
       "       [5132.5503],\n",
       "       [6068.2144],\n",
       "       [5895.0054],\n",
       "       [5901.786 ],\n",
       "       [5722.489 ],\n",
       "       [5945.81  ],\n",
       "       [5781.0366],\n",
       "       [5481.015 ],\n",
       "       [5934.6343],\n",
       "       [5852.7417],\n",
       "       [5847.775 ],\n",
       "       [5796.9297],\n",
       "       [5704.155 ],\n",
       "       [5304.4634],\n",
       "       [5310.2188],\n",
       "       [5764.1475],\n",
       "       [5482.1187],\n",
       "       [5316.014 ],\n",
       "       [4774.8193],\n",
       "       [5193.057 ],\n",
       "       [4873.108 ],\n",
       "       [4717.9194],\n",
       "       [4907.2617],\n",
       "       [4774.053 ],\n",
       "       [4505.505 ],\n",
       "       [4575.431 ],\n",
       "       [4494.3955],\n",
       "       [4508.1978],\n",
       "       [4783.824 ],\n",
       "       [4750.608 ],\n",
       "       [4395.0186],\n",
       "       [4713.494 ],\n",
       "       [4781.774 ],\n",
       "       [4594.5337]], dtype=float32)"
      ]
     },
     "execution_count": 91,
     "metadata": {},
     "output_type": "execute_result"
    }
   ],
   "source": [
    "yhat  ####SUCCESS"
   ]
  },
  {
   "cell_type": "code",
   "execution_count": null,
   "metadata": {},
   "outputs": [],
   "source": []
  },
  {
   "cell_type": "code",
   "execution_count": null,
   "metadata": {},
   "outputs": [],
   "source": []
  },
  {
   "cell_type": "code",
   "execution_count": 92,
   "metadata": {},
   "outputs": [
    {
     "data": {
      "text/plain": [
       "[<matplotlib.lines.Line2D at 0x2ae60dbcf28>]"
      ]
     },
     "execution_count": 92,
     "metadata": {},
     "output_type": "execute_result"
    },
    {
     "data": {
      "image/png": "[encoded data removed]",
      "text/plain": [
       "<Figure size 432x288 with 1 Axes>"
      ]
     },
     "metadata": {},
     "output_type": "display_data"
    }
   ],
   "source": [
    "plt.plot(test_y, label='Real')\n",
    "plt.plot(yhat, label='Predicted')"
   ]
  },
  {
   "cell_type": "markdown",
   "metadata": {},
   "source": [
    "# PREDICT"
   ]
  },
  {
   "cell_type": "code",
   "execution_count": 140,
   "metadata": {},
   "outputs": [],
   "source": [
    "test_predict = pd.read_csv('../Data/Output/test_timeseries_merged.csv',encoding='latin1')"
   ]
  },
  {
   "cell_type": "code",
   "execution_count": 141,
   "metadata": {},
   "outputs": [],
   "source": [
    "test_predict.set_index('Date', inplace=True)"
   ]
  },
  {
   "cell_type": "code",
   "execution_count": 142,
   "metadata": {},
   "outputs": [
    {
     "data": {
      "text/html": [
       "<div>\n",
       "<style scoped>\n",
       "    .dataframe tbody tr th:only-of-type {\n",
       "        vertical-align: middle;\n",
       "    }\n",
       "\n",
       "    .dataframe tbody tr th {\n",
       "        vertical-align: top;\n",
       "    }\n",
       "\n",
       "    .dataframe thead th {\n",
       "        text-align: right;\n",
       "    }\n",
       "</style>\n",
       "<table border=\"1\" class=\"dataframe\">\n",
       "  <thead>\n",
       "    <tr style=\"text-align: right;\">\n",
       "      <th></th>\n",
       "      <th>avg_block_size</th>\n",
       "      <th>blocks_size</th>\n",
       "      <th>cost_per_transaction_percent</th>\n",
       "      <th>cost_per_transaction</th>\n",
       "      <th>difficulty</th>\n",
       "      <th>est_transaction_volume_USD</th>\n",
       "      <th>est_transaction_volume</th>\n",
       "      <th>hash_rate</th>\n",
       "      <th>miners_revenue</th>\n",
       "      <th>n_unique_addresses</th>\n",
       "      <th>...</th>\n",
       "      <th>transactions_per_sec_stddev</th>\n",
       "      <th>transactions_per_sec_max</th>\n",
       "      <th>utxo_count_mean</th>\n",
       "      <th>utxo_count_stddev</th>\n",
       "      <th>news_stories_positive</th>\n",
       "      <th>news_stories_negative</th>\n",
       "      <th>news_stories_neutral</th>\n",
       "      <th>Negative_Tweets</th>\n",
       "      <th>Neutral_Tweets</th>\n",
       "      <th>Positive_Tweets</th>\n",
       "    </tr>\n",
       "    <tr>\n",
       "      <th>Date</th>\n",
       "      <th></th>\n",
       "      <th></th>\n",
       "      <th></th>\n",
       "      <th></th>\n",
       "      <th></th>\n",
       "      <th></th>\n",
       "      <th></th>\n",
       "      <th></th>\n",
       "      <th></th>\n",
       "      <th></th>\n",
       "      <th></th>\n",
       "      <th></th>\n",
       "      <th></th>\n",
       "      <th></th>\n",
       "      <th></th>\n",
       "      <th></th>\n",
       "      <th></th>\n",
       "      <th></th>\n",
       "      <th></th>\n",
       "      <th></th>\n",
       "      <th></th>\n",
       "    </tr>\n",
       "  </thead>\n",
       "  <tbody>\n",
       "    <tr>\n",
       "      <th>12/1/2018</th>\n",
       "      <td>1.068438</td>\n",
       "      <td>192924.029808</td>\n",
       "      <td>0.923090</td>\n",
       "      <td>26.914157</td>\n",
       "      <td>6.653303e+12</td>\n",
       "      <td>7.051436e+08</td>\n",
       "      <td>171285.334800</td>\n",
       "      <td>41011449.14</td>\n",
       "      <td>6509108.18</td>\n",
       "      <td>420224.0</td>\n",
       "      <td>...</td>\n",
       "      <td>1.323969</td>\n",
       "      <td>20.683333</td>\n",
       "      <td>58380899.25</td>\n",
       "      <td>12711.208037</td>\n",
       "      <td>297.0</td>\n",
       "      <td>508.0</td>\n",
       "      <td>110.0</td>\n",
       "      <td>31.0</td>\n",
       "      <td>64.0</td>\n",
       "      <td>75.0</td>\n",
       "    </tr>\n",
       "    <tr>\n",
       "      <th>12/2/2018</th>\n",
       "      <td>1.005272</td>\n",
       "      <td>193038.630789</td>\n",
       "      <td>1.715932</td>\n",
       "      <td>27.105352</td>\n",
       "      <td>6.653303e+12</td>\n",
       "      <td>3.517405e+08</td>\n",
       "      <td>84399.905117</td>\n",
       "      <td>37704074.21</td>\n",
       "      <td>6035630.09</td>\n",
       "      <td>364378.0</td>\n",
       "      <td>...</td>\n",
       "      <td>1.147508</td>\n",
       "      <td>24.466667</td>\n",
       "      <td>58397569.04</td>\n",
       "      <td>12797.050623</td>\n",
       "      <td>287.0</td>\n",
       "      <td>497.0</td>\n",
       "      <td>95.0</td>\n",
       "      <td>27.0</td>\n",
       "      <td>95.0</td>\n",
       "      <td>97.0</td>\n",
       "    </tr>\n",
       "    <tr>\n",
       "      <th>12/3/2018</th>\n",
       "      <td>1.101028</td>\n",
       "      <td>193164.148009</td>\n",
       "      <td>0.455677</td>\n",
       "      <td>24.006523</td>\n",
       "      <td>6.194016e+12</td>\n",
       "      <td>1.267830e+09</td>\n",
       "      <td>319552.043684</td>\n",
       "      <td>31998005.40</td>\n",
       "      <td>5777217.67</td>\n",
       "      <td>426799.0</td>\n",
       "      <td>...</td>\n",
       "      <td>1.059332</td>\n",
       "      <td>26.566667</td>\n",
       "      <td>58430813.58</td>\n",
       "      <td>9615.069463</td>\n",
       "      <td>386.0</td>\n",
       "      <td>552.0</td>\n",
       "      <td>181.0</td>\n",
       "      <td>27.0</td>\n",
       "      <td>122.0</td>\n",
       "      <td>96.0</td>\n",
       "    </tr>\n",
       "    <tr>\n",
       "      <th>12/4/2018</th>\n",
       "      <td>1.083460</td>\n",
       "      <td>193313.665436</td>\n",
       "      <td>0.279035</td>\n",
       "      <td>25.753689</td>\n",
       "      <td>5.646404e+12</td>\n",
       "      <td>2.493726e+09</td>\n",
       "      <td>629491.330519</td>\n",
       "      <td>38734427.59</td>\n",
       "      <td>6958363.40</td>\n",
       "      <td>492964.0</td>\n",
       "      <td>...</td>\n",
       "      <td>1.054051</td>\n",
       "      <td>26.100000</td>\n",
       "      <td>58453246.33</td>\n",
       "      <td>9025.975571</td>\n",
       "      <td>383.0</td>\n",
       "      <td>541.0</td>\n",
       "      <td>188.0</td>\n",
       "      <td>29.0</td>\n",
       "      <td>80.0</td>\n",
       "      <td>103.0</td>\n",
       "    </tr>\n",
       "    <tr>\n",
       "      <th>12/5/2018</th>\n",
       "      <td>1.036768</td>\n",
       "      <td>193448.445287</td>\n",
       "      <td>0.442812</td>\n",
       "      <td>24.839415</td>\n",
       "      <td>5.646404e+12</td>\n",
       "      <td>1.438836e+09</td>\n",
       "      <td>372914.991753</td>\n",
       "      <td>36488953.53</td>\n",
       "      <td>6371334.81</td>\n",
       "      <td>438437.0</td>\n",
       "      <td>...</td>\n",
       "      <td>0.990134</td>\n",
       "      <td>26.050000</td>\n",
       "      <td>58496345.79</td>\n",
       "      <td>9608.661188</td>\n",
       "      <td>359.0</td>\n",
       "      <td>532.0</td>\n",
       "      <td>149.0</td>\n",
       "      <td>50.0</td>\n",
       "      <td>105.0</td>\n",
       "      <td>118.0</td>\n",
       "    </tr>\n",
       "  </tbody>\n",
       "</table>\n",
       "<p>5 rows × 34 columns</p>\n",
       "</div>"
      ],
      "text/plain": [
       "           avg_block_size    blocks_size  cost_per_transaction_percent  \\\n",
       "Date                                                                     \n",
       "12/1/2018        1.068438  192924.029808                      0.923090   \n",
       "12/2/2018        1.005272  193038.630789                      1.715932   \n",
       "12/3/2018        1.101028  193164.148009                      0.455677   \n",
       "12/4/2018        1.083460  193313.665436                      0.279035   \n",
       "12/5/2018        1.036768  193448.445287                      0.442812   \n",
       "\n",
       "           cost_per_transaction    difficulty  est_transaction_volume_USD  \\\n",
       "Date                                                                        \n",
       "12/1/2018             26.914157  6.653303e+12                7.051436e+08   \n",
       "12/2/2018             27.105352  6.653303e+12                3.517405e+08   \n",
       "12/3/2018             24.006523  6.194016e+12                1.267830e+09   \n",
       "12/4/2018             25.753689  5.646404e+12                2.493726e+09   \n",
       "12/5/2018             24.839415  5.646404e+12                1.438836e+09   \n",
       "\n",
       "           est_transaction_volume    hash_rate  miners_revenue  \\\n",
       "Date                                                             \n",
       "12/1/2018           171285.334800  41011449.14      6509108.18   \n",
       "12/2/2018            84399.905117  37704074.21      6035630.09   \n",
       "12/3/2018           319552.043684  31998005.40      5777217.67   \n",
       "12/4/2018           629491.330519  38734427.59      6958363.40   \n",
       "12/5/2018           372914.991753  36488953.53      6371334.81   \n",
       "\n",
       "           n_unique_addresses       ...         transactions_per_sec_stddev  \\\n",
       "Date                                ...                                       \n",
       "12/1/2018            420224.0       ...                            1.323969   \n",
       "12/2/2018            364378.0       ...                            1.147508   \n",
       "12/3/2018            426799.0       ...                            1.059332   \n",
       "12/4/2018            492964.0       ...                            1.054051   \n",
       "12/5/2018            438437.0       ...                            0.990134   \n",
       "\n",
       "           transactions_per_sec_max  utxo_count_mean  utxo_count_stddev  \\\n",
       "Date                                                                      \n",
       "12/1/2018                 20.683333      58380899.25       12711.208037   \n",
       "12/2/2018                 24.466667      58397569.04       12797.050623   \n",
       "12/3/2018                 26.566667      58430813.58        9615.069463   \n",
       "12/4/2018                 26.100000      58453246.33        9025.975571   \n",
       "12/5/2018                 26.050000      58496345.79        9608.661188   \n",
       "\n",
       "           news_stories_positive  news_stories_negative  news_stories_neutral  \\\n",
       "Date                                                                            \n",
       "12/1/2018                  297.0                  508.0                 110.0   \n",
       "12/2/2018                  287.0                  497.0                  95.0   \n",
       "12/3/2018                  386.0                  552.0                 181.0   \n",
       "12/4/2018                  383.0                  541.0                 188.0   \n",
       "12/5/2018                  359.0                  532.0                 149.0   \n",
       "\n",
       "           Negative_Tweets  Neutral_Tweets  Positive_Tweets  \n",
       "Date                                                         \n",
       "12/1/2018             31.0            64.0             75.0  \n",
       "12/2/2018             27.0            95.0             97.0  \n",
       "12/3/2018             27.0           122.0             96.0  \n",
       "12/4/2018             29.0            80.0            103.0  \n",
       "12/5/2018             50.0           105.0            118.0  \n",
       "\n",
       "[5 rows x 34 columns]"
      ]
     },
     "execution_count": 142,
     "metadata": {},
     "output_type": "execute_result"
    }
   ],
   "source": [
    "test_predict.head(5)"
   ]
  },
  {
   "cell_type": "code",
   "execution_count": 143,
   "metadata": {},
   "outputs": [],
   "source": [
    "test_predict['difficulty'] = test_predict['difficulty'].apply(lambda x: '{:.2f}'.format(x))"
   ]
  },
  {
   "cell_type": "code",
   "execution_count": 144,
   "metadata": {},
   "outputs": [],
   "source": [
    "test_predict['est_transaction_volume_USD'] = test_predict['est_transaction_volume_USD'].apply(lambda x: '{:.2f}'.format(x))"
   ]
  },
  {
   "cell_type": "code",
   "execution_count": 145,
   "metadata": {},
   "outputs": [],
   "source": [
    "pred_values = test_predict.values"
   ]
  },
  {
   "cell_type": "code",
   "execution_count": 146,
   "metadata": {},
   "outputs": [
    {
     "data": {
      "text/plain": [
       "(113, 34)"
      ]
     },
     "execution_count": 146,
     "metadata": {},
     "output_type": "execute_result"
    }
   ],
   "source": [
    "pred_values.shape"
   ]
  },
  {
   "cell_type": "code",
   "execution_count": 147,
   "metadata": {},
   "outputs": [],
   "source": [
    "p_x_test_scaler = MinMaxScaler(feature_range=(-1, 1))"
   ]
  },
  {
   "cell_type": "code",
   "execution_count": 148,
   "metadata": {},
   "outputs": [
    {
     "name": "stderr",
     "output_type": "stream",
     "text": [
      "c:\\users\\rupadhyay\\python 3.6\\lib\\site-packages\\sklearn\\utils\\validation.py:475: DataConversionWarning: Data with input dtype object was converted to float64 by MinMaxScaler.\n",
      "  warnings.warn(msg, DataConversionWarning)\n"
     ]
    }
   ],
   "source": [
    "test_X = p_x_test_scaler.fit_transform(pred_values)"
   ]
  },
  {
   "cell_type": "code",
   "execution_count": 149,
   "metadata": {},
   "outputs": [
    {
     "name": "stdout",
     "output_type": "stream",
     "text": [
      "(900, 1, 34) (900,) (113, 1, 34) (51,)\n"
     ]
    }
   ],
   "source": [
    "# reshape input to be 3D [samples, timesteps, features]\n",
    "#train_X = train_X.reshape((train_X.shape[0], n_hours, n_features))\n",
    "test_X = test_X.reshape((test_X.shape[0], 1, 34))\n",
    "print(train_X.shape, train_y.shape, test_X.shape, test_y.shape)"
   ]
  },
  {
   "cell_type": "code",
   "execution_count": 150,
   "metadata": {},
   "outputs": [],
   "source": [
    "p_yhat = model.predict(test_X)"
   ]
  },
  {
   "cell_type": "code",
   "execution_count": 151,
   "metadata": {},
   "outputs": [],
   "source": [
    "p_yhat = y_test_scaler.inverse_transform(p_yhat)"
   ]
  },
  {
   "cell_type": "code",
   "execution_count": 152,
   "metadata": {},
   "outputs": [
    {
     "data": {
      "text/plain": [
       "array([[5785.7676],\n",
       "       [5353.846 ],\n",
       "       [5372.9277],\n",
       "       [4911.813 ],\n",
       "       [4787.7817],\n",
       "       [4489.7397],\n",
       "       [4487.871 ],\n",
       "       [4027.4297],\n",
       "       [4089.0842],\n",
       "       [4214.1255],\n",
       "       [4235.948 ],\n",
       "       [4229.1226],\n",
       "       [4473.003 ],\n",
       "       [4271.3584],\n",
       "       [3950.7415],\n",
       "       [3953.3528],\n",
       "       [4143.3228],\n",
       "       [4779.7485],\n",
       "       [5309.651 ],\n",
       "       [5192.1333],\n",
       "       [5557.616 ],\n",
       "       [5832.028 ],\n",
       "       [5586.8267],\n",
       "       [5713.4067],\n",
       "       [4743.2583],\n",
       "       [4750.0254],\n",
       "       [5263.397 ],\n",
       "       [5148.3076],\n",
       "       [5025.294 ],\n",
       "       [5215.039 ],\n",
       "       [4848.8354],\n",
       "       [4614.2935],\n",
       "       [5010.1245],\n",
       "       [5219.8037],\n",
       "       [4954.575 ],\n",
       "       [5016.5366],\n",
       "       [4754.5874],\n",
       "       [5199.75  ],\n",
       "       [5459.852 ],\n",
       "       [5425.1694],\n",
       "       [4766.594 ],\n",
       "       [4391.2026],\n",
       "       [4087.5093],\n",
       "       [4084.5117],\n",
       "       [4205.2036],\n",
       "       [4369.406 ],\n",
       "       [4337.8174],\n",
       "       [4240.4253],\n",
       "       [4317.5684],\n",
       "       [4212.4785],\n",
       "       [4316.4204],\n",
       "       [4210.4126],\n",
       "       [4277.345 ],\n",
       "       [4488.9746],\n",
       "       [4529.1353],\n",
       "       [4343.896 ],\n",
       "       [4532.826 ],\n",
       "       [4258.6987],\n",
       "       [4261.211 ],\n",
       "       [4253.472 ],\n",
       "       [4236.035 ],\n",
       "       [4230.4683],\n",
       "       [4272.3535],\n",
       "       [4205.3384],\n",
       "       [4281.4673],\n",
       "       [4234.6934],\n",
       "       [4302.349 ],\n",
       "       [4283.7695],\n",
       "       [4388.5005],\n",
       "       [4526.5845],\n",
       "       [4551.4536],\n",
       "       [4465.006 ],\n",
       "       [4817.7764],\n",
       "       [4565.405 ],\n",
       "       [3942.313 ],\n",
       "       [4467.753 ],\n",
       "       [4385.569 ],\n",
       "       [4647.9434],\n",
       "       [4649.888 ],\n",
       "       [4802.3677],\n",
       "       [4545.631 ],\n",
       "       [4551.624 ],\n",
       "       [4639.848 ],\n",
       "       [4610.5576],\n",
       "       [4944.6997],\n",
       "       [4973.69  ],\n",
       "       [4215.667 ],\n",
       "       [4693.8613],\n",
       "       [4680.147 ],\n",
       "       [4581.4673],\n",
       "       [4819.7056],\n",
       "       [4751.8145],\n",
       "       [4690.495 ],\n",
       "       [4761.4585],\n",
       "       [5047.286 ],\n",
       "       [4610.402 ],\n",
       "       [4766.614 ],\n",
       "       [5000.286 ],\n",
       "       [5043.848 ],\n",
       "       [5086.382 ],\n",
       "       [5031.3403],\n",
       "       [4890.2593],\n",
       "       [4676.166 ],\n",
       "       [4726.715 ],\n",
       "       [4882.309 ],\n",
       "       [5373.3467],\n",
       "       [5208.854 ],\n",
       "       [5161.319 ],\n",
       "       [5245.653 ],\n",
       "       [5155.0015],\n",
       "       [4962.3823],\n",
       "       [5186.763 ],\n",
       "       [5191.327 ]], dtype=float32)"
      ]
     },
     "execution_count": 152,
     "metadata": {},
     "output_type": "execute_result"
    }
   ],
   "source": [
    "p_yhat"
   ]
  },
  {
   "cell_type": "code",
   "execution_count": 108,
   "metadata": {},
   "outputs": [
    {
     "data": {
      "text/plain": [
       "(113, 1)"
      ]
     },
     "execution_count": 108,
     "metadata": {},
     "output_type": "execute_result"
    }
   ],
   "source": [
    "p_yhat.shape"
   ]
  },
  {
   "cell_type": "code",
   "execution_count": 153,
   "metadata": {},
   "outputs": [],
   "source": [
    "df_p_yhat = pd.DataFrame(p_yhat, index=p_yhat[:,0], columns=['close'])"
   ]
  },
  {
   "cell_type": "code",
   "execution_count": 154,
   "metadata": {},
   "outputs": [],
   "source": [
    "df_p_yhat.to_csv('../Data/Output/predicted_values.csv')"
   ]
  },
  {
   "cell_type": "code",
   "execution_count": 155,
   "metadata": {},
   "outputs": [],
   "source": [
    "submission_df = pd.read_csv('../Data/Output/Submission_The_Machinists.csv',encoding='latin1')"
   ]
  },
  {
   "cell_type": "code",
   "execution_count": 156,
   "metadata": {},
   "outputs": [
    {
     "data": {
      "text/html": [
       "<div>\n",
       "<style scoped>\n",
       "    .dataframe tbody tr th:only-of-type {\n",
       "        vertical-align: middle;\n",
       "    }\n",
       "\n",
       "    .dataframe tbody tr th {\n",
       "        vertical-align: top;\n",
       "    }\n",
       "\n",
       "    .dataframe thead th {\n",
       "        text-align: right;\n",
       "    }\n",
       "</style>\n",
       "<table border=\"1\" class=\"dataframe\">\n",
       "  <thead>\n",
       "    <tr style=\"text-align: right;\">\n",
       "      <th></th>\n",
       "      <th>date</th>\n",
       "      <th>close</th>\n",
       "    </tr>\n",
       "  </thead>\n",
       "  <tbody>\n",
       "    <tr>\n",
       "      <th>0</th>\n",
       "      <td>12/1/2018</td>\n",
       "      <td>5785.7676</td>\n",
       "    </tr>\n",
       "    <tr>\n",
       "      <th>1</th>\n",
       "      <td>12/2/2018</td>\n",
       "      <td>5353.8460</td>\n",
       "    </tr>\n",
       "    <tr>\n",
       "      <th>2</th>\n",
       "      <td>12/3/2018</td>\n",
       "      <td>5372.9277</td>\n",
       "    </tr>\n",
       "    <tr>\n",
       "      <th>3</th>\n",
       "      <td>12/4/2018</td>\n",
       "      <td>4911.8130</td>\n",
       "    </tr>\n",
       "    <tr>\n",
       "      <th>4</th>\n",
       "      <td>12/5/2018</td>\n",
       "      <td>4787.7817</td>\n",
       "    </tr>\n",
       "  </tbody>\n",
       "</table>\n",
       "</div>"
      ],
      "text/plain": [
       "        date      close\n",
       "0  12/1/2018  5785.7676\n",
       "1  12/2/2018  5353.8460\n",
       "2  12/3/2018  5372.9277\n",
       "3  12/4/2018  4911.8130\n",
       "4  12/5/2018  4787.7817"
      ]
     },
     "execution_count": 156,
     "metadata": {},
     "output_type": "execute_result"
    }
   ],
   "source": [
    "submission_df.head()"
   ]
  },
  {
   "cell_type": "code",
   "execution_count": 157,
   "metadata": {},
   "outputs": [],
   "source": [
    "submission_df['date'] = submission_df.date.apply(lambda x:datetime.datetime.strptime(x, \"%m/%d/%Y\").strftime(\"%Y-%m-%d\"))"
   ]
  },
  {
   "cell_type": "code",
   "execution_count": 158,
   "metadata": {},
   "outputs": [
    {
     "data": {
      "text/html": [
       "<div>\n",
       "<style scoped>\n",
       "    .dataframe tbody tr th:only-of-type {\n",
       "        vertical-align: middle;\n",
       "    }\n",
       "\n",
       "    .dataframe tbody tr th {\n",
       "        vertical-align: top;\n",
       "    }\n",
       "\n",
       "    .dataframe thead th {\n",
       "        text-align: right;\n",
       "    }\n",
       "</style>\n",
       "<table border=\"1\" class=\"dataframe\">\n",
       "  <thead>\n",
       "    <tr style=\"text-align: right;\">\n",
       "      <th></th>\n",
       "      <th>date</th>\n",
       "      <th>close</th>\n",
       "    </tr>\n",
       "  </thead>\n",
       "  <tbody>\n",
       "    <tr>\n",
       "      <th>0</th>\n",
       "      <td>2018-12-01</td>\n",
       "      <td>5785.7676</td>\n",
       "    </tr>\n",
       "    <tr>\n",
       "      <th>1</th>\n",
       "      <td>2018-12-02</td>\n",
       "      <td>5353.8460</td>\n",
       "    </tr>\n",
       "    <tr>\n",
       "      <th>2</th>\n",
       "      <td>2018-12-03</td>\n",
       "      <td>5372.9277</td>\n",
       "    </tr>\n",
       "    <tr>\n",
       "      <th>3</th>\n",
       "      <td>2018-12-04</td>\n",
       "      <td>4911.8130</td>\n",
       "    </tr>\n",
       "    <tr>\n",
       "      <th>4</th>\n",
       "      <td>2018-12-05</td>\n",
       "      <td>4787.7817</td>\n",
       "    </tr>\n",
       "  </tbody>\n",
       "</table>\n",
       "</div>"
      ],
      "text/plain": [
       "         date      close\n",
       "0  2018-12-01  5785.7676\n",
       "1  2018-12-02  5353.8460\n",
       "2  2018-12-03  5372.9277\n",
       "3  2018-12-04  4911.8130\n",
       "4  2018-12-05  4787.7817"
      ]
     },
     "execution_count": 158,
     "metadata": {},
     "output_type": "execute_result"
    }
   ],
   "source": [
    "submission_df.head()"
   ]
  },
  {
   "cell_type": "code",
   "execution_count": 159,
   "metadata": {},
   "outputs": [],
   "source": [
    "submission_df.to_csv('../Data/Output/Submission_The_Machinists_1.csv')"
   ]
  },
  {
   "cell_type": "code",
   "execution_count": null,
   "metadata": {},
   "outputs": [],
   "source": []
  },
  {
   "cell_type": "code",
   "execution_count": null,
   "metadata": {},
   "outputs": [],
   "source": []
  },
  {
   "cell_type": "code",
   "execution_count": null,
   "metadata": {},
   "outputs": [],
   "source": []
  },
  {
   "cell_type": "code",
   "execution_count": null,
   "metadata": {},
   "outputs": [],
   "source": []
  }
 ],
 "metadata": {
  "kernelspec": {
   "display_name": "Python 3",
   "language": "python",
   "name": "python3"
  },
  "language_info": {
   "codemirror_mode": {
    "name": "ipython",
    "version": 3
   },
   "file_extension": ".py",
   "mimetype": "text/x-python",
   "name": "python",
   "nbconvert_exporter": "python",
   "pygments_lexer": "ipython3",
   "version": "3.6.5"
  }
 },
 "nbformat": 4,
 "nbformat_minor": 2
}
